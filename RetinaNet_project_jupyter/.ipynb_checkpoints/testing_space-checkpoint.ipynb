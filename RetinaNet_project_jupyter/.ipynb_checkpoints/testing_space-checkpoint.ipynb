{
 "cells": [
  {
   "cell_type": "code",
   "execution_count": 44,
   "metadata": {},
   "outputs": [],
   "source": [
    "from PIL import Image\n",
    "import numpy as np\n",
    "import cv2\n"
   ]
  },
  {
   "cell_type": "code",
   "execution_count": 54,
   "metadata": {},
   "outputs": [
    {
     "name": "stdout",
     "output_type": "stream",
     "text": [
      "[[[179 181 193]\n",
      "  [191 198 206]\n",
      "  [192 201 208]\n",
      "  ...\n",
      "  [157 144 170]\n",
      "  [156 144 168]\n",
      "  [164 150 175]]\n",
      "\n",
      " [[187 192 198]\n",
      "  [188 198 200]\n",
      "  [194 208 208]\n",
      "  ...\n",
      "  [157 143 169]\n",
      "  [147 133 159]\n",
      "  [152 136 165]]\n",
      "\n",
      " [[197 205 207]\n",
      "  [196 211 208]\n",
      "  [199 220 215]\n",
      "  ...\n",
      "  [156 136 164]\n",
      "  [151 132 162]\n",
      "  [153 136 168]]\n",
      "\n",
      " ...\n",
      "\n",
      " [[208 244 218]\n",
      "  [214 250 222]\n",
      "  [210 249 218]\n",
      "  ...\n",
      "  [205 177 189]\n",
      "  [203 175 187]\n",
      "  [208 177 192]]\n",
      "\n",
      " [[209 244 220]\n",
      "  [213 251 226]\n",
      "  [209 249 222]\n",
      "  ...\n",
      "  [206 180 191]\n",
      "  [204 176 188]\n",
      "  [205 175 187]]\n",
      "\n",
      " [[211 246 224]\n",
      "  [215 253 230]\n",
      "  [214 254 228]\n",
      "  ...\n",
      "  [209 183 194]\n",
      "  [208 182 193]\n",
      "  [209 179 191]]]\n",
      "---------------------------\n",
      "(460, 700, 3)\n",
      "---------------------------\n",
      "(4, 4, 3)\n",
      "---------------------------\n",
      "[[[210 209 214]\n",
      "  [184 178 182]\n",
      "  [194 187 195]\n",
      "  [202 210 212]]\n",
      "\n",
      " [[210 231 226]\n",
      "  [197 196 201]\n",
      "  [213 214 219]\n",
      "  [229 228 224]]\n",
      "\n",
      " [[199 221 209]\n",
      "  [189 189 187]\n",
      "  [116 103 129]\n",
      "  [163 148 177]]\n",
      "\n",
      " [[154 166 166]\n",
      "  [206 194 194]\n",
      "  [236 247 243]\n",
      "  [203 187 200]]]\n",
      "---------------------------\n",
      "[[210 184 194 202]\n",
      " [210 197 213 229]\n",
      " [199 189 116 163]\n",
      " [154 206 236 203]]\n",
      "---------------------------\n"
     ]
    }
   ],
   "source": [
    "image_test = np.array(Image.open(r'D:/Studying/Breast_Cancer_dataset_practice/Split_for_practice/benign_test/SOB_B_A-14-29960CD-200-001.png'))\n",
    "print(image_test)\n",
    "print('---------------------------')\n",
    "print(image_test.shape)\n",
    "print('---------------------------')\n",
    "image_resize = cv2.resize(image_test, (4, 4))\n",
    "print(image_resize.shape)\n",
    "print('---------------------------')\n",
    "print(image_resize)\n",
    "print('---------------------------')\n",
    "print(image_resize[:,:,0])\n",
    "print('---------------------------')\n"
   ]
  },
  {
   "cell_type": "code",
   "execution_count": 42,
   "metadata": {},
   "outputs": [
    {
     "ename": "error",
     "evalue": "OpenCV(3.4.2) C:\\Miniconda3\\conda-bld\\opencv-suite_1534379934306\\work\\modules\\imgproc\\src\\resize.cpp:3922: error: (-215:Assertion failed) func != 0 in function 'cv::hal::resize'\n",
     "output_type": "error",
     "traceback": [
      "\u001b[1;31m---------------------------------------------------------------------------\u001b[0m",
      "\u001b[1;31merror\u001b[0m                                     Traceback (most recent call last)",
      "\u001b[1;32m<ipython-input-42-7801a57ccdfa>\u001b[0m in \u001b[0;36m<module>\u001b[1;34m\u001b[0m\n\u001b[0;32m      1\u001b[0m \u001b[0mtest_array\u001b[0m \u001b[1;33m=\u001b[0m \u001b[0mnp\u001b[0m\u001b[1;33m.\u001b[0m\u001b[0marray\u001b[0m\u001b[1;33m(\u001b[0m\u001b[1;33m[\u001b[0m\u001b[1;33m[\u001b[0m\u001b[1;33m[\u001b[0m\u001b[1;36m1\u001b[0m\u001b[1;33m,\u001b[0m\u001b[1;36m1\u001b[0m\u001b[1;33m,\u001b[0m\u001b[1;36m1\u001b[0m\u001b[1;33m,\u001b[0m\u001b[1;36m4\u001b[0m\u001b[1;33m]\u001b[0m\u001b[1;33m,\u001b[0m \u001b[1;33m[\u001b[0m\u001b[1;36m2\u001b[0m\u001b[1;33m,\u001b[0m\u001b[1;36m2\u001b[0m\u001b[1;33m,\u001b[0m\u001b[1;36m2\u001b[0m\u001b[1;33m,\u001b[0m\u001b[1;36m5\u001b[0m\u001b[1;33m]\u001b[0m\u001b[1;33m,\u001b[0m \u001b[1;33m[\u001b[0m\u001b[1;36m3\u001b[0m\u001b[1;33m,\u001b[0m\u001b[1;36m3\u001b[0m\u001b[1;33m,\u001b[0m\u001b[1;36m3\u001b[0m\u001b[1;33m,\u001b[0m\u001b[1;36m6\u001b[0m\u001b[1;33m]\u001b[0m\u001b[1;33m]\u001b[0m\u001b[1;33m,\u001b[0m \u001b[1;33m[\u001b[0m\u001b[1;33m[\u001b[0m\u001b[1;36m3\u001b[0m\u001b[1;33m,\u001b[0m\u001b[1;36m3\u001b[0m\u001b[1;33m,\u001b[0m\u001b[1;36m3\u001b[0m\u001b[1;33m,\u001b[0m\u001b[1;36m6\u001b[0m\u001b[1;33m]\u001b[0m\u001b[1;33m,\u001b[0m \u001b[1;33m[\u001b[0m\u001b[1;36m2\u001b[0m\u001b[1;33m,\u001b[0m\u001b[1;36m2\u001b[0m\u001b[1;33m,\u001b[0m\u001b[1;36m2\u001b[0m\u001b[1;33m,\u001b[0m\u001b[1;36m5\u001b[0m\u001b[1;33m]\u001b[0m\u001b[1;33m,\u001b[0m \u001b[1;33m[\u001b[0m\u001b[1;36m1\u001b[0m\u001b[1;33m,\u001b[0m\u001b[1;36m1\u001b[0m\u001b[1;33m,\u001b[0m\u001b[1;36m1\u001b[0m\u001b[1;33m,\u001b[0m\u001b[1;36m4\u001b[0m\u001b[1;33m]\u001b[0m\u001b[1;33m]\u001b[0m\u001b[1;33m]\u001b[0m\u001b[1;33m)\u001b[0m\u001b[1;33m\u001b[0m\u001b[1;33m\u001b[0m\u001b[0m\n\u001b[1;32m----> 2\u001b[1;33m \u001b[0mtest_array_resize\u001b[0m \u001b[1;33m=\u001b[0m \u001b[0mcv2\u001b[0m\u001b[1;33m.\u001b[0m\u001b[0mresize\u001b[0m\u001b[1;33m(\u001b[0m\u001b[0mtest_array\u001b[0m\u001b[1;33m,\u001b[0m \u001b[1;33m(\u001b[0m\u001b[1;36m3\u001b[0m\u001b[1;33m,\u001b[0m\u001b[1;36m3\u001b[0m\u001b[1;33m)\u001b[0m\u001b[1;33m)\u001b[0m\u001b[1;33m\u001b[0m\u001b[1;33m\u001b[0m\u001b[0m\n\u001b[0m\u001b[0;32m      3\u001b[0m \u001b[1;31m# print(test_array[:,2,:])\u001b[0m\u001b[1;33m\u001b[0m\u001b[1;33m\u001b[0m\u001b[1;33m\u001b[0m\u001b[0m\n",
      "\u001b[1;31merror\u001b[0m: OpenCV(3.4.2) C:\\Miniconda3\\conda-bld\\opencv-suite_1534379934306\\work\\modules\\imgproc\\src\\resize.cpp:3922: error: (-215:Assertion failed) func != 0 in function 'cv::hal::resize'\n"
     ]
    }
   ],
   "source": [
    "# test_array = np.array([[[1,1,1,4], [2,2,2,5], [3,3,3,6]], [[3,3,3,6], [2,2,2,5], [1,1,1,4]]])\n",
    "# test_array_resize = cv2.resize(test_array, (3,3))\n",
    "# # print(test_array[:,2,:])"
   ]
  },
  {
   "cell_type": "code",
   "execution_count": 26,
   "metadata": {},
   "outputs": [
    {
     "ename": "SyntaxError",
     "evalue": "invalid character in identifier (<ipython-input-26-18b0b1ce24a7>, line 2)",
     "output_type": "error",
     "traceback": [
      "\u001b[1;36m  File \u001b[1;32m\"<ipython-input-26-18b0b1ce24a7>\"\u001b[1;36m, line \u001b[1;32m2\u001b[0m\n\u001b[1;33m    test_1 = np.array([[[1, 2，1], [3, 4]], [[5,6], [7,8]]])\u001b[0m\n\u001b[1;37m                              ^\u001b[0m\n\u001b[1;31mSyntaxError\u001b[0m\u001b[1;31m:\u001b[0m invalid character in identifier\n"
     ]
    }
   ],
   "source": [
    "import numpy as np\n",
    "test_1 = np.array([[[1, 2], [3, 4]], [[5,6], [7,8]]])\n",
    "test_2 = np.array([[[11, 12], [13, 14]], [[15,16], [17,18]]])\n",
    "# test_concatenate = np.concatenate((test_1, test_2), axis = 2)\n",
    "test_append_1 = []\n",
    "test_append_1.append(test_1)\n",
    "test_append_1.append(test_2)\n",
    "test_append_2 = []\n",
    "test_append_2.append(test_2)\n",
    "test_append_2.append(test_1)\n",
    "print(test_append_1)\n",
    "print('----------------------------')\n",
    "print(test_append_2)\n",
    "print('----------------------------')\n",
    "print(np.array(test_append_2))\n",
    "print(np.array(test_append_2).shape)\n",
    "# test_final = np.concatenate(test)\n",
    "# print(len(test_append))\n",
    "# print(test_concatenate[1])"
   ]
  }
 ],
 "metadata": {
  "kernelspec": {
   "display_name": "Python 3",
   "language": "python",
   "name": "python3"
  },
  "language_info": {
   "codemirror_mode": {
    "name": "ipython",
    "version": 3
   },
   "file_extension": ".py",
   "mimetype": "text/x-python",
   "name": "python",
   "nbconvert_exporter": "python",
   "pygments_lexer": "ipython3",
   "version": "3.7.6"
  }
 },
 "nbformat": 4,
 "nbformat_minor": 4
}
