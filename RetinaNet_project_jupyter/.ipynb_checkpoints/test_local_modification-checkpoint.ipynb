{
 "cells": [
  {
   "cell_type": "markdown",
   "metadata": {},
   "source": [
    "#### Our option one here: Directly using the method provided by the repositpry (using skimage.color.gray2rgb) to convert gray scale image into RGB(BGR) <== They are the same, since coverting gray scale image into colored image is just copying the value of one channel into three channels.\n"
   ]
  },
  {
   "cell_type": "code",
   "execution_count": 1,
   "metadata": {},
   "outputs": [
    {
     "name": "stdout",
     "output_type": "stream",
     "text": [
      "<class 'numpy.uint16'>\n",
      "************************************\n",
      "1610\n",
      "1610\n",
      "True\n"
     ]
    }
   ],
   "source": [
    "from keras_retinanet.utils.image import read_image_bgr\n",
    "import pydicom as dicom\n",
    "\n",
    "file_path = file_name = r'D:\\Studying\\RetinaNet_Project\\all_DICOM_files\\AllDICOMs\\50999432_f62fbf38fb208316_MG_L_ML_ANON.dcm'\n",
    "read_by_pydicom = dicom.dcmread(file_name).pixel_array\n",
    "test = read_image_bgr(file_name)\n",
    "print(type(test[1,1,0]))\n",
    "print(\"************************************\")\n",
    "# Check whether it is just copying one channel into three.\n",
    "a = 1546\n",
    "b = 502\n",
    "print(read_by_pydicom[a, b])\n",
    "print(\"Same pixel in the image after doing rgb conversion....\")\n",
    "print(test[a, b, 0])\n",
    "print(test[a, b, 1])\n",
    "print(test[a, b, 2])\n",
    "print(test[a, b, 0] == test[a, b, 1])"
   ]
  },
  {
   "cell_type": "markdown",
   "metadata": {},
   "source": [
    "#### Our option two here: mapping uint16 range [0, 65535] into float number [0.0, 256.0] and duplicate the values in one channel into three channels, use these for training. <== Save resulting float number as .tiff image?"
   ]
  },
  {
   "cell_type": "code",
   "execution_count": 89,
   "metadata": {},
   "outputs": [],
   "source": [
    "# Note that if we choose this option, the following codes should be embeded inside the original keras-retinanet repository.\n",
    "import numpy as np\n",
    "import skimage\n",
    "from PIL import Image\n",
    "import matplotlib.pyplot as plt\n",
    "\n",
    "file_path = file_name = r'D:\\Studying\\RetinaNet_Project\\all_DICOM_files\\AllDICOMs\\50999432_f62fbf38fb208316_MG_L_ML_ANON.dcm'\n",
    "read_by_pydicom = dicom.dcmread(file_name).pixel_array\n",
    "\n",
    "# Range map.\n",
    "convert_version = read_by_pydicom * np.float32(256) / 65535\n",
    "# Duplicate the channel.\n",
    "final_conversion_float32 = np.stack((convert_version, ) *3, axis = -1)"
   ]
  },
  {
   "cell_type": "code",
   "execution_count": 81,
   "metadata": {},
   "outputs": [
    {
     "name": "stdout",
     "output_type": "stream",
     "text": [
      "(2, 2)\n",
      "(2, 2, 3)\n",
      "[[[1 1 1]\n",
      "  [2 2 2]]\n",
      "\n",
      " [[3 3 3]\n",
      "  [4 4 4]]]\n",
      "(2, 4)\n",
      "(3, 2, 4)\n",
      "8\n",
      "(3, 2, 4)\n",
      "[[[1 2 3 4]\n",
      "  [5 6 7 8]]\n",
      "\n",
      " [[2 2 1 4]\n",
      "  [3 5 7 8]]\n",
      "\n",
      " [[5 7 7 3]\n",
      "  [6 6 2 8]]]\n",
      "(2, 3, 4)\n",
      "[[[1 2 3 4]\n",
      "  [2 2 1 4]\n",
      "  [5 7 7 3]]\n",
      "\n",
      " [[5 6 7 8]\n",
      "  [3 5 7 8]\n",
      "  [6 6 2 8]]]\n",
      "(2, 4, 3)\n",
      "[[[1 2 5]\n",
      "  [2 2 7]\n",
      "  [3 1 7]\n",
      "  [4 4 3]]\n",
      "\n",
      " [[5 3 6]\n",
      "  [6 5 6]\n",
      "  [7 7 2]\n",
      "  [8 8 8]]]\n",
      "5\n"
     ]
    }
   ],
   "source": [
    "import numpy as np\n",
    "\n",
    "x = np.array([[1,2],[3,4]])\n",
    "print(x.shape)\n",
    "shape = x.shape\n",
    "test = np.zeros((shape[0], shape[1], 3))\n",
    "b = np.stack((x, ) *3, axis=-1)\n",
    "print(b.shape)\n",
    "print(b)\n",
    "\n",
    "\n",
    "\n",
    "# # Test np.stack\n",
    "# a = np.array([[1,2,3,4], [5,6,7,8]])\n",
    "# b = np.array([[2,2,1,4], [3,5,7,8]])\n",
    "# c = np.array([[5,7,7,3], [6,6,2,8]])\n",
    "# print(c.shape)\n",
    "# # Instead of thinking about dimensions, think about directly add another square bracket outside the original array.\n",
    "# arrays = np.asarray([a, b, c])\n",
    "# print(arrays.shape)\n",
    "# print(arrays[1,1,3])\n",
    "\n",
    "# # For three-dimensional matrix, stack from axis = 0 does not change the original matrix\n",
    "# # axis = 1 take...dimension... axis = 2, take first...\n",
    "# test1 = np.stack(arrays, axis=0)\n",
    "# print(test1.shape)\n",
    "# print(test1)\n",
    "# test2 = np.stack(arrays, axis=1)\n",
    "# print(test2.shape)\n",
    "# print(test2)\n",
    "# test3 = np.stack(arrays, axis=2)\n",
    "# print(test3.shape)\n",
    "# print(test3)\n",
    "# print(test3[1, 0, 0])"
   ]
  },
  {
   "cell_type": "code",
   "execution_count": 93,
   "metadata": {},
   "outputs": [
    {
     "data": {
      "text/plain": [
       "244.28107118333716"
      ]
     },
     "execution_count": 93,
     "metadata": {},
     "output_type": "execute_result"
    }
   ],
   "source": [
    "import numpy as np\n",
    "\n",
    "a = np.uint16(62535)\n",
    "b = a * np.float32(256) / 65535\n",
    "b"
   ]
  }
 ],
 "metadata": {
  "kernelspec": {
   "display_name": "Python 3",
   "language": "python",
   "name": "python3"
  },
  "language_info": {
   "codemirror_mode": {
    "name": "ipython",
    "version": 3
   },
   "file_extension": ".py",
   "mimetype": "text/x-python",
   "name": "python",
   "nbconvert_exporter": "python",
   "pygments_lexer": "ipython3",
   "version": "3.6.10"
  }
 },
 "nbformat": 4,
 "nbformat_minor": 4
}
