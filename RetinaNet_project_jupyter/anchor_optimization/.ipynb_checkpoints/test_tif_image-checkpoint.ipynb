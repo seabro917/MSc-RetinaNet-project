{
 "cells": [
  {
   "cell_type": "code",
   "execution_count": 27,
   "metadata": {},
   "outputs": [],
   "source": [
    "from PIL import Image\n",
    "import cv2\n",
    "import numpy as np\n",
    "import matplotlib.pyplot as plt\n",
    "import pydicom as dicom\n",
    "import skimage.color\n",
    "import pandas as pd"
   ]
  },
  {
   "cell_type": "code",
   "execution_count": 31,
   "metadata": {},
   "outputs": [
    {
     "name": "stdout",
     "output_type": "stream",
     "text": [
      "0     D:\\Studying\\RetinaNet_Project\\all_DICOM_files\\...\n",
      "1     D:\\Studying\\RetinaNet_Project\\all_DICOM_files\\...\n",
      "2     D:\\Studying\\RetinaNet_Project\\all_DICOM_files\\...\n",
      "3     D:\\Studying\\RetinaNet_Project\\all_DICOM_files\\...\n",
      "4     D:\\Studying\\RetinaNet_Project\\all_DICOM_files\\...\n",
      "                            ...                        \n",
      "70    D:\\Studying\\RetinaNet_Project\\all_DICOM_files\\...\n",
      "71    D:\\Studying\\RetinaNet_Project\\all_DICOM_files\\...\n",
      "72    D:\\Studying\\RetinaNet_Project\\all_DICOM_files\\...\n",
      "73    D:\\Studying\\RetinaNet_Project\\all_DICOM_files\\...\n",
      "74    D:\\Studying\\RetinaNet_Project\\all_DICOM_files\\...\n",
      "Name: image_path, Length: 75, dtype: object\n",
      "D:\\Studying\\RetinaNet_Project\\all_DICOM_files\\AllDICOMs\\22580341_5eae9beae14d26fd_MG_R_CC_ANON.dcm\n"
     ]
    }
   ],
   "source": [
    "file_path = r'D:\\Studying\\RetinaNet_Project_csv\\new_version\\on_my_own_pc\\75train_25val_16test\\for_anchor_optimization\\training_set_only_mass.xlsx'\n",
    "data_frame = pd.read_excel(file_path)\n",
    "image_path_dataframe = data_frame['image_path']\n",
    "print(image_path_dataframe)\n",
    "# List for storing all image path\n",
    "image_path_list = np.array(image_path_dataframe).tolist()\n",
    "# print(image_path_list[0])\n",
    "# print(len(image_path_list))\n",
    "\n",
    "for i in range(75):\n",
    "    image_path_temp = image_path_list[i]\n",
    "    dicom_image = dicom.dcmread(image_path_tempa).pixel_array\n",
    "    print(\"Processing \", i, \"image...\")\n",
    "    \n",
    "\n",
    "# # Test saving DICOM images in tiff format\n",
    "# file_name = r'D:\\Studying\\RetinaNet_Project\\all_DICOM_files\\AllDICOMs\\50999432_f62fbf38fb208316_MG_L_ML_ANON.dcm'\n",
    "# dicom_data = dicom.dcmread(file_name)\n",
    "# data = dicom_data.pixel_array\n",
    "# print(\"The shape of original DICOM image is: \", data.shape)\n",
    "# Image.fromarray(data).save('dicom_tiff_test.tif')\n",
    "\n",
    "# print(\"**********************************************\")\n",
    "\n",
    "# # Load the stored tiff-format DICOM image\n",
    "# dicom_tiff = Image.open('dicom_tiff_test.tif')   \n",
    "# dicom_tiff = np.array(dicom_tiff)\n",
    "# print(\"DICOM image stored in tiff format:\", type(dicom_tiff[1,1]))\n",
    "# print(\"DICOM image stored in tiff format has shape of: \", dicom_tiff.shape)\n",
    "# print(data[1000,1000] == dicom_tiff[1000,1000])"
   ]
  }
 ],
 "metadata": {
  "kernelspec": {
   "display_name": "Python 3",
   "language": "python",
   "name": "python3"
  },
  "language_info": {
   "codemirror_mode": {
    "name": "ipython",
    "version": 3
   },
   "file_extension": ".py",
   "mimetype": "text/x-python",
   "name": "python",
   "nbconvert_exporter": "python",
   "pygments_lexer": "ipython3",
   "version": "3.6.10"
  }
 },
 "nbformat": 4,
 "nbformat_minor": 4
}
