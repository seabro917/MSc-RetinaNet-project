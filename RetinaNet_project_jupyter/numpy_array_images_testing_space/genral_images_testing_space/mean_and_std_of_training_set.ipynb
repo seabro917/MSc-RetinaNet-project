{
 "cells": [
  {
   "cell_type": "code",
   "execution_count": 1,
   "metadata": {},
   "outputs": [],
   "source": [
    "import numpy as np\n",
    "import pydicom as dicom"
   ]
  },
  {
   "cell_type": "code",
   "execution_count": 16,
   "metadata": {},
   "outputs": [
    {
     "name": "stdout",
     "output_type": "stream",
     "text": [
      "(2, 3, 2)\n",
      "<class 'numpy.float64'>\n",
      "1.5456030825826172\n",
      "1.545603\n"
     ]
    },
    {
     "data": {
      "text/plain": [
       "2.7938424357067015"
      ]
     },
     "execution_count": 16,
     "metadata": {},
     "output_type": "execute_result"
    }
   ],
   "source": [
    "data = np.array([[[1,2],[2,2],[4,1]], [[5,6],[3,3],[2,1]]])\n",
    "print(data.shape)\n",
    "std = np.std(data)\n",
    "print(type(std))\n",
    "print(std)\n",
    "print(np.float32(std))\n",
    "\n",
    "\n",
    "data = np.array([[1,2,5],[2,6,9]])\n",
    "std = np.std(data)\n",
    "std"
   ]
  },
  {
   "cell_type": "code",
   "execution_count": 43,
   "metadata": {},
   "outputs": [
    {
     "name": "stdout",
     "output_type": "stream",
     "text": [
      "598.390969636191\n",
      "0.00913086123767357\n",
      "<class 'numpy.float64'>\n",
      "0.009130862\n",
      "325.4349908682016\n",
      "0.0049658197536979285\n",
      "<class 'numpy.float64'>\n",
      "0.00496582\n",
      "*******************\n",
      "[2 3 4 5 5 5]\n",
      "1.1547005383792515\n"
     ]
    },
    {
     "data": {
      "text/plain": [
       "1.1547005383792515"
      ]
     },
     "execution_count": 43,
     "metadata": {},
     "output_type": "execute_result"
    }
   ],
   "source": [
    "# Calculate the mean and std of the dicom images in training set\n",
    "    \n",
    "file_path = r'D:\\Studying\\RetinaNet_Project\\all_DICOM_files\\AllDICOMs\\22580341_5eae9beae14d26fd_MG_R_CC_ANON.dcm'\n",
    "data = dicom.dcmread(file_path).pixel_array\n",
    "std = np.std(data)\n",
    "print(std)\n",
    "normalised_std = np.float32(std) / np.int(65535)\n",
    "print(normalised_std)\n",
    "print(type(normalised_std))\n",
    "print(np.float32(normalised_std))\n",
    "\n",
    "mean = np.mean(data)\n",
    "print(mean)\n",
    "normalised_mean = np.float32(mean) /np.int(65535)\n",
    "print(normalised_mean)\n",
    "print(type(normalised_mean))\n",
    "print(np.float32(normalised_mean))\n",
    "\n",
    "data = np.array([[2,3,4],[5,2,1]])\n",
    "mean = np.mean(data)\n",
    "mean\n",
    "\n",
    "print(\"*******************\")\n",
    "data = np.array([[2,3,4],[5,5,5]])\n",
    "test =data.flatten()\n",
    "print(test)\n",
    "print(np.std(test))\n",
    "std = np.std(data)\n",
    "std"
   ]
  },
  {
   "cell_type": "code",
   "execution_count": 1,
   "metadata": {},
   "outputs": [],
   "source": [
    "import numpy as np\n",
    "import pydicom as dicom\n"
   ]
  },
  {
   "cell_type": "code",
   "execution_count": 12,
   "metadata": {},
   "outputs": [
    {
     "name": "stdout",
     "output_type": "stream",
     "text": [
      "['D:\\\\Studying\\\\RetinaNet_Project\\\\all_DICOM_files\\\\AllDICOMs\\\\20587810_81cd83d2f4d78528_MG_L_ML_ANON.dcm', 'D:\\\\Studying\\\\RetinaNet_Project\\\\all_DICOM_files\\\\AllDICOMs\\\\30011674_6968748e66837bc7_MG_L_CC_ANON.dcm', 'D:\\\\Studying\\\\RetinaNet_Project\\\\all_DICOM_files\\\\AllDICOMs\\\\22678694_61b13c59bcba149e_MG_L_ML_ANON.dcm', 'D:\\\\Studying\\\\RetinaNet_Project\\\\all_DICOM_files\\\\AllDICOMs\\\\50996352_6aba0b402889a16f_MG_R_ML_ANON.dcm', 'D:\\\\Studying\\\\RetinaNet_Project\\\\all_DICOM_files\\\\AllDICOMs\\\\22614379_d065adcb9905b973_MG_L_CC_ANON.dcm', 'D:\\\\Studying\\\\RetinaNet_Project\\\\all_DICOM_files\\\\AllDICOMs\\\\22580244_5530d5782fc89dd7_MG_R_ML_ANON.dcm', 'D:\\\\Studying\\\\RetinaNet_Project\\\\all_DICOM_files\\\\AllDICOMs\\\\22580341_5eae9beae14d26fd_MG_R_CC_ANON.dcm', 'D:\\\\Studying\\\\RetinaNet_Project\\\\all_DICOM_files\\\\AllDICOMs\\\\22427840_bbd6a3a35438c11b_MG_R_CC_ANON.dcm', 'D:\\\\Studying\\\\RetinaNet_Project\\\\all_DICOM_files\\\\AllDICOMs\\\\20587054_b6a4f750c6df4f90_MG_R_CC_ANON.dcm', 'D:\\\\Studying\\\\RetinaNet_Project\\\\all_DICOM_files\\\\AllDICOMs\\\\53582764_465aa5ec1b59efc6_MG_R_ML_ANON.dcm']\n",
      "<class 'numpy.ndarray'>\n",
      "mean is:  501.18515790499174\n",
      "std is:  703.8669486751877\n",
      "normalised mean is:  0.0076475954\n",
      "normalise std is:  0.010740321\n"
     ]
    }
   ],
   "source": [
    "file_path_1 = r'D:\\Studying\\RetinaNet_Project\\all_DICOM_files\\AllDICOMs\\20587810_81cd83d2f4d78528_MG_L_ML_ANON.dcm'\n",
    "file_path_2 = r'D:\\Studying\\RetinaNet_Project\\all_DICOM_files\\AllDICOMs\\30011674_6968748e66837bc7_MG_L_CC_ANON.dcm'\n",
    "file_path_3 = r'D:\\Studying\\RetinaNet_Project\\all_DICOM_files\\AllDICOMs\\22678694_61b13c59bcba149e_MG_L_ML_ANON.dcm'\n",
    "file_path_4 = r'D:\\Studying\\RetinaNet_Project\\all_DICOM_files\\AllDICOMs\\50996352_6aba0b402889a16f_MG_R_ML_ANON.dcm'\n",
    "file_path_5 = r'D:\\Studying\\RetinaNet_Project\\all_DICOM_files\\AllDICOMs\\22614379_d065adcb9905b973_MG_L_CC_ANON.dcm'\n",
    "file_path_6 = r'D:\\Studying\\RetinaNet_Project\\all_DICOM_files\\AllDICOMs\\22580244_5530d5782fc89dd7_MG_R_ML_ANON.dcm'\n",
    "file_path_7 = r'D:\\Studying\\RetinaNet_Project\\all_DICOM_files\\AllDICOMs\\22580341_5eae9beae14d26fd_MG_R_CC_ANON.dcm'\n",
    "file_path_8 = r'D:\\Studying\\RetinaNet_Project\\all_DICOM_files\\AllDICOMs\\22427840_bbd6a3a35438c11b_MG_R_CC_ANON.dcm'\n",
    "file_path_9 = r'D:\\Studying\\RetinaNet_Project\\all_DICOM_files\\AllDICOMs\\20587054_b6a4f750c6df4f90_MG_R_CC_ANON.dcm'\n",
    "file_path_10 = r'D:\\Studying\\RetinaNet_Project\\all_DICOM_files\\AllDICOMs\\53582764_465aa5ec1b59efc6_MG_R_ML_ANON.dcm'\n",
    "\n",
    "file_path_array = []\n",
    "for x in range(10):\n",
    "    file_path_temp = 'file_path_{}'.format(x+1)\n",
    "    file_path_array.append(eval(file_path_temp))\n",
    "print(file_path_array)\n",
    "\n",
    "dicom_image_array = np.uint16(np.zeros([3328,2560,10]))\n",
    "print(type(dicom_image_array[2,2]))\n",
    "for i in range(10):\n",
    "    file_path_temp_new = file_path_array[i]\n",
    "    dicom_image_array[:,:,i] = dicom.dcmread(file_path_temp_new).pixel_array\n",
    "print(\"mean is: \", np.mean(dicom_image_array))\n",
    "print(\"std is: \", np.std(dicom_image_array))\n",
    "print(\"normalised mean is: \", np.float32(np.mean(dicom_image_array) / 65535))\n",
    "print(\"normalise std is: \", np.float32(np.std(dicom_image_array) / 65535 ))"
   ]
  },
  {
   "cell_type": "code",
   "execution_count": 3,
   "metadata": {},
   "outputs": [
    {
     "name": "stdout",
     "output_type": "stream",
     "text": [
      "<class 'numpy.float32'>\n",
      "1.7197196\n",
      "<class 'numpy.float32'>\n",
      "1.7197196\n",
      "[[ True  True  True ...  True  True  True]\n",
      " [ True  True  True ...  True  True  True]\n",
      " [ True  True  True ...  True  True  True]\n",
      " ...\n",
      " [ True  True  True ...  True  True  True]\n",
      " [ True  True  True ...  True  True  True]\n",
      " [ True  True  True ...  True  True  True]]\n"
     ]
    }
   ],
   "source": [
    "file_path = r'D:\\Studying\\RetinaNet_Project\\all_DICOM_files\\AllDICOMs\\20587810_81cd83d2f4d78528_MG_L_ML_ANON.dcm'\n",
    "data = dicom.dcmread(file_path).pixel_array\n",
    "x = data.astype(np.float32)\n",
    "x = x / 65535.0\n",
    "x = (x - 0.008) / 0.011\n",
    "print(type(x[2,2]))\n",
    "print(x[2,2])\n",
    "\n",
    "x_repo = read_image_bgr(file_path)\n",
    "x_final = preprocess_image(x_repo, mode='caffe')\n",
    "print(type(x_final[2,2,2]))\n",
    "print(x_final[2,2,0])\n",
    "print(x == x_final[:,:,2])"
   ]
  },
  {
   "cell_type": "code",
   "execution_count": 22,
   "metadata": {},
   "outputs": [
    {
     "name": "stdout",
     "output_type": "stream",
     "text": [
      "(4084, 3328)\n",
      "4083\n"
     ]
    }
   ],
   "source": [
    "import numpy as np\n",
    "import pydicom as dicom\n",
    "import pandas as pd\n",
    "\n",
    "final_pixel_array = []\n",
    "\n",
    "file_path = r'D:\\Studying\\RetinaNet_Project\\all_DICOM_files\\AllDICOMs\\22613822_45c7f44839fd9e68_MG_R_ML_ANON.dcm'\n",
    "dicom_array = dicom.dcmread(file_path).pixel_array\n",
    "print(dicom_array.shape)\n",
    "temp_shape = dicom_array.shape\n",
    "counter = 0\n",
    "for i in range(temp_shape[0]):\n",
    "    for j in range(temp_shape[1]):\n",
    "        temp = dicom_array[i, j]\n",
    "        counter = counter + 1\n",
    "print(counter)"
   ]
  },
  {
   "cell_type": "code",
   "execution_count": 4,
   "metadata": {},
   "outputs": [
    {
     "name": "stdout",
     "output_type": "stream",
     "text": [
      "0      D:\\Studying\\RetinaNet_Project\\all_DICOM_files\\...\n",
      "1      D:\\Studying\\RetinaNet_Project\\all_DICOM_files\\...\n",
      "2      D:\\Studying\\RetinaNet_Project\\all_DICOM_files\\...\n",
      "3      D:\\Studying\\RetinaNet_Project\\all_DICOM_files\\...\n",
      "4      D:\\Studying\\RetinaNet_Project\\all_DICOM_files\\...\n",
      "                             ...                        \n",
      "257    D:\\Studying\\RetinaNet_Project\\all_DICOM_files\\...\n",
      "258    D:\\Studying\\RetinaNet_Project\\all_DICOM_files\\...\n",
      "259    D:\\Studying\\RetinaNet_Project\\all_DICOM_files\\...\n",
      "260    D:\\Studying\\RetinaNet_Project\\all_DICOM_files\\...\n",
      "261    D:\\Studying\\RetinaNet_Project\\all_DICOM_files\\...\n",
      "Name: image_path, Length: 262, dtype: object\n",
      "(3328, 2560)\n",
      "(3328, 2560)\n",
      "(3328, 2560)\n",
      "(4084, 3328)\n",
      "(3328, 2560)\n",
      "(4084, 3328)\n",
      "(3328, 2560)\n",
      "(3328, 2560)\n",
      "(3328, 2560)\n",
      "(4084, 3328)\n",
      "(3328, 2560)\n",
      "(3328, 2560)\n",
      "(3328, 2560)\n",
      "(4084, 3328)\n",
      "(3328, 2560)\n",
      "(4084, 3328)\n",
      "(3328, 2560)\n",
      "(3328, 2560)\n",
      "(3328, 2560)\n",
      "(3328, 2560)\n",
      "(3328, 2560)\n",
      "(3328, 2560)\n",
      "(3328, 2560)\n",
      "(3328, 2560)\n",
      "(4084, 3328)\n",
      "(3328, 2560)\n",
      "(4084, 3328)\n",
      "(3328, 2560)\n",
      "(4084, 3328)\n",
      "(3328, 2560)\n",
      "(3328, 2560)\n",
      "(3328, 2560)\n",
      "(3328, 2560)\n",
      "(3328, 2560)\n",
      "(3328, 2560)\n",
      "(3328, 2560)\n",
      "(4084, 3328)\n",
      "(4084, 3328)\n",
      "(3328, 2560)\n",
      "(3328, 2560)\n",
      "(3328, 2560)\n",
      "(4084, 3328)\n",
      "(3328, 2560)\n",
      "(4084, 3328)\n",
      "(4084, 3328)\n",
      "(3328, 2560)\n",
      "(4084, 3328)\n",
      "(3328, 2560)\n",
      "(3328, 2560)\n",
      "(4084, 3328)\n",
      "(4084, 3328)\n",
      "(4084, 3328)\n",
      "(4084, 3328)\n",
      "(4084, 3328)\n",
      "(4084, 3328)\n",
      "(3328, 2560)\n",
      "(3328, 2560)\n",
      "(4084, 3328)\n",
      "(4084, 3328)\n",
      "(3328, 2560)\n",
      "(3328, 2560)\n",
      "(3328, 2560)\n",
      "(4084, 3328)\n",
      "(4084, 3328)\n",
      "(3328, 2560)\n",
      "(4084, 3328)\n",
      "(3328, 2560)\n",
      "(4084, 3328)\n",
      "(3328, 2560)\n",
      "(4084, 3328)\n",
      "(4084, 3328)\n",
      "(4084, 3328)\n",
      "(3328, 2560)\n",
      "(3328, 2560)\n",
      "(3328, 2560)\n",
      "Mean is:  1449.4893283817823\n",
      "Std is:  221.66651915601025\n"
     ]
    }
   ],
   "source": [
    "import numpy as np\n",
    "import pydicom as dicom\n",
    "import pandas as pd\n",
    "\n",
    "excel_file_path = r'D:\\Studying\\RetinaNet_Project_csv\\new_version\\on_my_own_pc\\75train_25val_16test\\for_calculate_mean_and_std\\training_annotations.xlsx'\n",
    "data_frame = pd.read_excel(excel_file_path)\n",
    "image_path_dataframe = data_frame['image_path']\n",
    "print(image_path_dataframe)\n",
    "# List for storing all image path\n",
    "image_path_list = np.array(image_path_dataframe).tolist()\n",
    "# Storing all the non-zero pixels\n",
    "final_pixel_array = []\n",
    "\n",
    "for image_index in range (75):\n",
    "    image_path_temp = image_path_list[image_index]\n",
    "    dicom_array_temp = dicom.dcmread(image_path_temp).pixel_array\n",
    "    print(dicom_array_temp.shape)\n",
    "    image_shape_temp = dicom_array_temp.shape\n",
    "    for i in range(image_shape_temp[0]):\n",
    "        for j in range(image_shape_temp[1]):\n",
    "            temp_pixel_value = dicom_array_temp[i, j]\n",
    "            if(temp_pixel_value!=0):\n",
    "                final_pixel_array.append(temp_pixel_value)\n",
    "\n",
    "final_pixel_array_np = np.array(final_pixel_array)\n",
    "dicom_mean = np.mean(final_pixel_array_np)\n",
    "dicom_std = np.std(final_pixel_array_np)\n",
    "print(\"Mean is: \", dicom_mean)\n",
    "print(\"Std is: \", dicom_std)"
   ]
  },
  {
   "cell_type": "code",
   "execution_count": 4,
   "metadata": {},
   "outputs": [
    {
     "name": "stdout",
     "output_type": "stream",
     "text": [
      "<class 'numpy.uint8'>\n",
      "<class 'numpy.float64'>\n"
     ]
    }
   ],
   "source": [
    "import numpy as np\n",
    "x = np.uint8(123)\n",
    "print(type(x))\n",
    "x = x.astype(np.float32)\n",
    "x = x / 133.5\n",
    "print(type(x))\n"
   ]
  },
  {
   "cell_type": "code",
   "execution_count": 6,
   "metadata": {},
   "outputs": [
    {
     "name": "stdout",
     "output_type": "stream",
     "text": [
      "[[[0 0 0]\n",
      "  [0 0 0]\n",
      "  [0 0 0]\n",
      "  ...\n",
      "  [0 0 0]\n",
      "  [0 0 0]\n",
      "  [0 0 0]]\n",
      "\n",
      " [[0 0 0]\n",
      "  [0 0 0]\n",
      "  [0 0 0]\n",
      "  ...\n",
      "  [0 0 0]\n",
      "  [0 0 0]\n",
      "  [0 0 0]]\n",
      "\n",
      " [[0 0 0]\n",
      "  [0 0 0]\n",
      "  [0 0 0]\n",
      "  ...\n",
      "  [0 0 0]\n",
      "  [0 0 0]\n",
      "  [0 0 0]]\n",
      "\n",
      " ...\n",
      "\n",
      " [[0 0 0]\n",
      "  [0 0 0]\n",
      "  [0 0 0]\n",
      "  ...\n",
      "  [0 0 0]\n",
      "  [0 0 0]\n",
      "  [0 0 0]]\n",
      "\n",
      " [[0 0 0]\n",
      "  [0 0 0]\n",
      "  [0 0 0]\n",
      "  ...\n",
      "  [0 0 0]\n",
      "  [0 0 0]\n",
      "  [0 0 0]]\n",
      "\n",
      " [[0 0 0]\n",
      "  [0 0 0]\n",
      "  [0 0 0]\n",
      "  ...\n",
      "  [0 0 0]\n",
      "  [0 0 0]\n",
      "  [0 0 0]]]\n"
     ]
    }
   ],
   "source": [
    "from keras_retinanet.utils.image import read_image_bgr\n",
    "\n",
    "file_path = r'D:\\Studying\\RetinaNet_Project\\all_DICOM_files\\AllDICOMs\\22613822_45c7f44839fd9e68_MG_R_ML_ANON.dcm'\n",
    "test = read_image_bgr(file_path)\n",
    "print(test)"
   ]
  }
 ],
 "metadata": {
  "kernelspec": {
   "display_name": "Python 3",
   "language": "python",
   "name": "python3"
  },
  "language_info": {
   "codemirror_mode": {
    "name": "ipython",
    "version": 3
   },
   "file_extension": ".py",
   "mimetype": "text/x-python",
   "name": "python",
   "nbconvert_exporter": "python",
   "pygments_lexer": "ipython3",
   "version": "3.6.10"
  }
 },
 "nbformat": 4,
 "nbformat_minor": 4
}
