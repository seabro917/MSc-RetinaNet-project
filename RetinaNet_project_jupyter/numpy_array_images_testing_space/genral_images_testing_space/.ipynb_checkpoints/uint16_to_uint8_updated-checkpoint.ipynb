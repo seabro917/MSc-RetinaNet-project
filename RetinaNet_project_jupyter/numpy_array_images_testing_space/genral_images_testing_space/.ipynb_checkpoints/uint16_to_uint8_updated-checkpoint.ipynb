{
 "cells": [
  {
   "cell_type": "code",
   "execution_count": 1,
   "metadata": {},
   "outputs": [
    {
     "name": "stdout",
     "output_type": "stream",
     "text": [
      "3216\n",
      "uint16\n",
      "16bit dynamic range: 0 - 3216\n",
      "uint8\n",
      "8bit dynamic range: 0 - 20\n",
      "1702\n",
      "12\n",
      "******************\n",
      "12\n",
      "12.0\n"
     ]
    }
   ],
   "source": [
    "import cv2\n",
    "import numpy as np\n",
    "import pydicom as dicom\n",
    "\n",
    "def transfer_16bit_to_8bit(dicom_image_path):\n",
    "    image_16bit = dicom.dcmread(dicom_image_path).pixel_array\n",
    "    min_16bit = np.min(image_16bit)\n",
    "    max_16bit = np.max(image_16bit)\n",
    "    print(max_16bit)\n",
    "    image_8bit = np.array((255 * (image_16bit - min_16bit)) / float(max_16bit - min_16bit), dtype=np.uint8)\n",
    "    print(image_16bit.dtype)\n",
    "    print('16bit dynamic range: %d - %d' % (min_16bit, max_16bit))\n",
    "    print(image_8bit.dtype)\n",
    "    print('8bit dynamic range: %d - %d' % (np.min(image_8bit), np.max(image_8bit)))\n",
    "    return image_8bit\n",
    "dicom_image_path = r'D:\\Studying\\RetinaNet_Project\\all_DICOM_files\\AllDICOMs\\50999432_f62fbf38fb208316_MG_L_ML_ANON.dcm'\n",
    "# dicom_image_path = r'D:\\Studying\\RetinaNet_Project\\all_DICOM_files\\AllDICOMs\\22580244_5530d5782fc89dd7_MG_R_ML_ANON.dcm'\n",
    "# dicom_image_path = r'D:\\Studying\\RetinaNet_Project\\all_DICOM_files\\AllDICOMs\\22580341_5eae9beae14d26fd_MG_R_CC_ANON.dcm'\n",
    "# dicom_image_path = r'D:\\Studying\\RetinaNet_Project\\all_DICOM_files\\AllDICOMs\\22427840_bbd6a3a35438c11b_MG_R_CC_ANON.dcm'\n",
    "# dicom_image_path = r'D:\\Studying\\RetinaNet_Project\\all_DICOM_files\\AllDICOMs\\20587054_b6a4f750c6df4f90_MG_R_CC_ANON.dcm'\n",
    "dicom_image_path = r'D:\\Studying\\RetinaNet_Project\\all_DICOM_files\\AllDICOMs\\53582764_465aa5ec1b59efc6_MG_R_ML_ANON.dcm'\n",
    "\n",
    "image_16bit = dicom.dcmread(dicom_image_path).pixel_array\n",
    "image_8bit = transfer_16bit_to_8bit(dicom_image_path)\n",
    "\n",
    "print(image_16bit[2000,1500])\n",
    "print(image_8bit[2000, 1500])\n",
    "print(\"******************\")\n",
    "print(image_8bit[2000,1500])\n",
    "image_8bit = image_8bit.astype(np.float32)\n",
    "print(image_8bit[2000,1500])"
   ]
  },
  {
   "cell_type": "code",
   "execution_count": 13,
   "metadata": {},
   "outputs": [
    {
     "name": "stdout",
     "output_type": "stream",
     "text": [
      "float32\n",
      "16bit dynamic range: 0 - 3723\n",
      "uint8\n",
      "8bit dynamic range: 0 - 255\n",
      "1141\n",
      "78\n"
     ]
    }
   ],
   "source": [
    "import cv2\n",
    "import numpy as np\n",
    "import pydicom as dicom\n",
    "\n",
    "def transfer_16bit_to_8bit(dicom_image_path):\n",
    "    image_16bit = dicom.dcmread(dicom_image_path).pixel_array\n",
    "    image_16bit = image_16bit.astype(np.float32)\n",
    "    min_16bit = np.min(image_16bit)\n",
    "    max_16bit = np.max(image_16bit)\n",
    "#     print(max_16bit)\n",
    "    image_8bit = np.array(np.rint((255 * (image_16bit - min_16bit)) / float(max_16bit - min_16bit)), dtype=np.uint8)\n",
    "    print(image_16bit.dtype)\n",
    "    print('16bit dynamic range: %d - %d' % (min_16bit, max_16bit))\n",
    "    print(image_8bit.dtype)\n",
    "    print('8bit dynamic range: %d - %d' % (np.min(image_8bit), np.max(image_8bit)))\n",
    "    return image_8bit\n",
    "dicom_image_path = r'D:\\Studying\\RetinaNet_Project\\all_DICOM_files\\AllDICOMs\\50999432_f62fbf38fb208316_MG_L_ML_ANON.dcm'\n",
    "image_16bit = dicom.dcmread(dicom_image_path).pixel_array\n",
    "image_8bit = transfer_16bit_to_8bit(dicom_image_path)\n",
    "\n",
    "print(image_16bit[2000,1500])\n",
    "print(image_8bit[2000, 1500])\n"
   ]
  },
  {
   "cell_type": "code",
   "execution_count": 2,
   "metadata": {},
   "outputs": [
    {
     "name": "stdout",
     "output_type": "stream",
     "text": [
      "78\n"
     ]
    },
    {
     "ename": "TypeError",
     "evalue": "ufunc 'true_divide' output (typecode 'd') could not be coerced to provided output parameter (typecode 'B') according to the casting rule ''same_kind''",
     "output_type": "error",
     "traceback": [
      "\u001b[1;31m---------------------------------------------------------------------------\u001b[0m",
      "\u001b[1;31mTypeError\u001b[0m                                 Traceback (most recent call last)",
      "\u001b[1;32m<ipython-input-2-794ca17b0e6d>\u001b[0m in \u001b[0;36m<module>\u001b[1;34m\u001b[0m\n\u001b[0;32m     10\u001b[0m \u001b[1;33m\u001b[0m\u001b[0m\n\u001b[0;32m     11\u001b[0m \u001b[0mprint\u001b[0m\u001b[1;33m(\u001b[0m\u001b[0mx\u001b[0m\u001b[1;33m[\u001b[0m\u001b[1;36m2000\u001b[0m\u001b[1;33m,\u001b[0m\u001b[1;36m1500\u001b[0m\u001b[1;33m]\u001b[0m\u001b[1;33m)\u001b[0m\u001b[1;33m\u001b[0m\u001b[1;33m\u001b[0m\u001b[0m\n\u001b[1;32m---> 12\u001b[1;33m \u001b[0mx\u001b[0m \u001b[1;33m/=\u001b[0m \u001b[1;36m127.5\u001b[0m\u001b[1;33m\u001b[0m\u001b[1;33m\u001b[0m\u001b[0m\n\u001b[0m\u001b[0;32m     13\u001b[0m \u001b[0mx\u001b[0m \u001b[1;33m-=\u001b[0m \u001b[1;36m1.\u001b[0m\u001b[1;33m\u001b[0m\u001b[1;33m\u001b[0m\u001b[0m\n\u001b[0;32m     14\u001b[0m \u001b[1;33m\u001b[0m\u001b[0m\n",
      "\u001b[1;31mTypeError\u001b[0m: ufunc 'true_divide' output (typecode 'd') could not be coerced to provided output parameter (typecode 'B') according to the casting rule ''same_kind''"
     ]
    }
   ],
   "source": [
    "import cv2\n",
    "import numpy as np\n",
    "import pydicom as dicom\n",
    "dicom_image_path = r'D:\\Studying\\RetinaNet_Project\\all_DICOM_files\\AllDICOMs\\50999432_f62fbf38fb208316_MG_L_ML_ANON.dcm'\n",
    "x = dicom.dcmread(dicom_image_path).pixel_array\n",
    "x = x.astype(np.float32)\n",
    "min_16bit = np.min(x)\n",
    "max_16bit = np.max(x)\n",
    "x = np.array(np.rint((255 * (x - min_16bit)) / float(max_16bit - min_16bit)), dtype=np.uint8)\n",
    "\n"
   ]
  },
  {
   "cell_type": "code",
   "execution_count": 28,
   "metadata": {},
   "outputs": [
    {
     "name": "stdout",
     "output_type": "stream",
     "text": [
      "Max is:  3723\n",
      "<class 'numpy.uint8'>\n",
      "1141\n",
      "78\n",
      "*****************************\n",
      "<class 'numpy.uint8'>\n",
      "78\n"
     ]
    }
   ],
   "source": [
    "import cv2\n",
    "import numpy as np\n",
    "import pydicom as dicom\n",
    "import skimage.color\n",
    "\n",
    "dicom_image_path = r'D:\\Studying\\RetinaNet_Project\\all_DICOM_files\\AllDICOMs\\50999432_f62fbf38fb208316_MG_L_ML_ANON.dcm'\n",
    "image_16bit = dicom.dcmread(dicom_image_path).pixel_array\n",
    "\n",
    "# test_16 = np.uint16([[[22113,22113,222]]])\n",
    "max_value = np.max(image_16bit)\n",
    "print(\"Max is: \", max_value)\n",
    "after = cv2.convertScaleAbs(image_16bit,alpha = (255.0/max_value))\n",
    "print(type(after[2,2]))\n",
    "\n",
    "print(image_16bit[2000,1500])\n",
    "print(after[2000,1500])\n",
    "\n",
    "print(\"*****************************\")\n",
    "dicom_image_path = r'D:\\Studying\\RetinaNet_Project\\all_DICOM_files\\AllDICOMs\\50999432_f62fbf38fb208316_MG_L_ML_ANON.dcm'\n",
    "x = dicom.dcmread(dicom_image_path).pixel_array\n",
    "\n",
    "# test_16 = np.uint16([[[22113,22113,222]]])\n",
    "max_value_16bit = np.max(x)\n",
    "min_value_16bit = np.min(x)\n",
    "x = cv2.convertScaleAbs(x,alpha = (255.0/(max_value_16bit-min_value_16bit)))\n",
    "print(type(x[2,2]))\n",
    "\n",
    "print(x[2000,1500])\n"
   ]
  },
  {
   "cell_type": "code",
   "execution_count": 9,
   "metadata": {},
   "outputs": [
    {
     "name": "stdout",
     "output_type": "stream",
     "text": [
      "3723.0\n",
      "0.0\n",
      "2.0 0.0\n",
      "<class 'numpy.float32'>\n",
      "1.0 -1.0\n",
      "-0.38705343\n",
      "True\n"
     ]
    }
   ],
   "source": [
    "import cv2\n",
    "import numpy as np\n",
    "import pydicom as dicom\n",
    "import skimage.color\n",
    "from keras_retinanet.utils.image import read_image_bgr,preprocess_image\n",
    "\n",
    "dicom_image_path = r'D:\\Studying\\RetinaNet_Project\\all_DICOM_files\\AllDICOMs\\50999432_f62fbf38fb208316_MG_L_ML_ANON.dcm'\n",
    "image_16bit = dicom.dcmread(dicom_image_path).pixel_array\n",
    "\n",
    "x = read_image_bgr(dicom_image_path)\n",
    "x = x.astype(np.float32)\n",
    "max_uint16 = np.max(x)\n",
    "min_uint16 = np.min(x)\n",
    "print(max_uint16)\n",
    "print(min_uint16)\n",
    "\n",
    "x = (x - min_uint16) / ((max_uint16 - min_uint16) / 2.0)\n",
    "print(np.max(x), np.min(x))\n",
    "x = x - 1.0\n",
    "print(type(x[1,1,1]))\n",
    "print(np.max(x), np.min(x))\n",
    "print(x[2000,1500,1])\n",
    "\n",
    "test = preprocess_image(x)\n",
    "print(test[2000, 1501,0] == x[2000, 1501,1])"
   ]
  }
 ],
 "metadata": {
  "kernelspec": {
   "display_name": "Python 3",
   "language": "python",
   "name": "python3"
  },
  "language_info": {
   "codemirror_mode": {
    "name": "ipython",
    "version": 3
   },
   "file_extension": ".py",
   "mimetype": "text/x-python",
   "name": "python",
   "nbconvert_exporter": "python",
   "pygments_lexer": "ipython3",
   "version": "3.6.10"
  }
 },
 "nbformat": 4,
 "nbformat_minor": 4
}
