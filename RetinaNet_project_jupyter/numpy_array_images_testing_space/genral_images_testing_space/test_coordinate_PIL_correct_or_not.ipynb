{
 "cells": [
  {
   "cell_type": "code",
   "execution_count": 3,
   "metadata": {},
   "outputs": [
    {
     "name": "stdout",
     "output_type": "stream",
     "text": [
      "(4084, 3328)\n",
      "<class 'numpy.ndarray'>\n",
      "(4084, 3328)\n",
      "<class 'numpy.ndarray'>\n",
      "The shape of the dicom file read by keras-retinanet method:  (4084, 3328, 3)\n"
     ]
    },
    {
     "name": "stderr",
     "output_type": "stream",
     "text": [
      "Clipping input data to the valid range for imshow with RGB data ([0..1] for floats or [0..255] for integers).\n"
     ]
    },
    {
     "data": {
      "text/plain": [
       "<matplotlib.image.AxesImage at 0x1c387c73f98>"
      ]
     },
     "execution_count": 3,
     "metadata": {},
     "output_type": "execute_result"
    },
    {
     "data": {
      "image/png": "[encoded data removed]",
      "text/plain": [
       "<Figure size 432x288 with 2 Axes>"
      ]
     },
     "metadata": {
      "needs_background": "light"
     },
     "output_type": "display_data"
    }
   ],
   "source": [
    "# 30/03/2020 Check whether the new values for PIL coordinates are correct.\n",
    "# Status: Pass\n",
    "from matplotlib import pyplot as plt\n",
    "import pydicom as dicom\n",
    "import cv2\n",
    "from PIL import Image\n",
    "from PIL.ImageDraw import Draw\n",
    "from keras_retinanet.utils.image import read_image_bgr\n",
    "\n",
    "# file_path_test = r'D:\\Studying\\tensorflow_scripts\\RetinaNet_project\\test_Keras\\000000008021.jpg'\n",
    "# test_image = cv2.imread(file_path_test)\n",
    "# print(test_image.shape)\n",
    "# image_size = [4084, 3328]\n",
    "# image_after = cv2.resize(test_image, (3328,4084))\n",
    "# print(image_after.shape)\n",
    "# bbox_coordinate = [2350, 1329, 3328, 2314]\n",
    "# plt.subplot2grid((1,2), (0,0))\n",
    "# cv2.rectangle(test_image, (100, 50), (300, 400),(0,255,0), 4)\n",
    "# plt.imshow(test_image)\n",
    "# plt.subplot2grid((1,2), (0,1))\n",
    "# cv2.rectangle(image_after, (2350, 1329), (3328, 2314),(255,255,0), -1)\n",
    "# # cv2.rectangle(image_after, (100, 100), (300, 331),(255,255,0), 15)\n",
    "# plt.imshow(image_after)\n",
    "# plt.show()\n",
    "\n",
    "# file_path = r'D:\\Studying\\RetinaNet_Project\\all_DICOM_files\\AllDICOMs\\22580654_fe7d005dcbbfb46d_MG_R_CC_ANON.dcm'\n",
    "# bbox_coordinate = [2349, 1769, 3327, 2754]\n",
    "\n",
    "file_path = r'D:\\Studying\\RetinaNet_Project\\all_DICOM_files\\AllDICOMs\\24065289_c4b995eddb3c510c_MG_L_CC_ANON.dcm'\n",
    "bbox_coordinate = [278, 1802, 822, 2392]\n",
    "\n",
    "read_by_dicom = dicom.dcmread(file_path).pixel_array\n",
    "print(read_by_dicom.shape)\n",
    "read_by_repository = read_image_bgr(file_path)\n",
    "print(type(read_by_dicom))\n",
    "print(read_by_dicom.shape)\n",
    "print(type(read_by_repository))\n",
    "print(\"The shape of the dicom file read by keras-retinanet method: \", read_by_repository.shape)\n",
    "\n",
    "plt.subplot2grid((1,2), (0,0))\n",
    "# This command is not working in gray image sololy.\n",
    "plt.imshow(read_by_dicom, cmap = 'gray')\n",
    "\n",
    "# Plot the bbox in colored filled rectangle.(By setting the end of the command to -1)\n",
    "plt.subplot2grid((1,2), (0,1))\n",
    "cv2.rectangle(read_by_repository, (bbox_coordinate[0], bbox_coordinate[1]), (bbox_coordinate[2], bbox_coordinate[3]), (255, 0, 0), -1)\n",
    "plt.imshow(read_by_repository, cmap = 'gray')\n",
    "\n",
    "# plt.figure()\n",
    "\n",
    "# draw1 = Draw(read_by_dicom)\n",
    "# draw1.rectangle((bbox_coordinate[0], bbox_coordinate[1], bbox_coordinate[2], bbox_coordinate[3]), fill=\"black\")"
   ]
  },
  {
   "cell_type": "code",
   "execution_count": 2,
   "metadata": {},
   "outputs": [
    {
     "name": "stdout",
     "output_type": "stream",
     "text": [
      "<class 'dict'>\n",
      "<class 'numpy.ndarray'>\n",
      "(410, 1)\n",
      "(array(['20586908_6c613a14b80a8591_MG_R_CC_ANON.dcm'], dtype='<U42'), array(['D:\\\\Studying\\\\RetinaNet_Project\\\\all_DICOM_files\\\\AllDICOMs'],\n",
      "      dtype='<U55'), array(['15-3月-2020 17:03:52'], dtype='<U19'), array([[27184016]]), array([[0]], dtype=uint8), array([[737865.71101852]]), array([[array([[2462.929932,  995.062988],\n",
      "       [2452.830078,  986.978027],\n",
      "       [2442.719971,  982.935974],\n",
      "       [2430.914551,  983.919678],\n",
      "       [2420.48999 ,  988.999023],\n",
      "       [2409.370117,  997.083984],\n",
      "       [2402.300049, 1008.200012],\n",
      "       [2397.25    , 1019.320007],\n",
      "       [2393.172363, 1030.600708],\n",
      "       [2392.179199, 1041.526123],\n",
      "       [2392.179199, 1052.451416],\n",
      "       [2394.165527, 1065.363159],\n",
      "       [2399.131592, 1079.268066],\n",
      "       [2410.056885, 1089.200195],\n",
      "       [2421.975586, 1094.16626 ],\n",
      "       [2432.900879, 1097.145996],\n",
      "       [2443.659912, 1095.849976],\n",
      "       [2453.399902, 1094.329956],\n",
      "       [2465.969971, 1090.060059],\n",
      "       [2477.080078, 1081.969971],\n",
      "       [2485.169922, 1071.869995],\n",
      "       [2491.22998 , 1060.75    ],\n",
      "       [2491.22998 , 1049.630005],\n",
      "       [2490.219971, 1038.52002 ],\n",
      "       [2484.159912, 1025.380005],\n",
      "       [2478.090088, 1015.27002 ],\n",
      "       [2472.030029, 1004.159973]]),\n",
      "        array([[3196.290039, 1048.599976],\n",
      "       [3203.560059, 1046.170044],\n",
      "       [3211.330078, 1042.780029],\n",
      "       [3219.090088, 1037.439941],\n",
      "       [3226.850098, 1031.619995],\n",
      "       [3233.149902, 1024.339966],\n",
      "       [3240.919922, 1017.549988],\n",
      "       [3248.679932, 1011.23999 ],\n",
      "       [3255.949951, 1007.849976],\n",
      "       [3264.389893, 1007.849976],\n",
      "       [3271.649902, 1008.859985],\n",
      "       [3279.449951, 1013.390015],\n",
      "       [3284.570068, 1019.48999 ],\n",
      "       [3286.030029, 1027.25    ],\n",
      "       [3287.47998 , 1034.530029],\n",
      "       [3287.47998 , 1042.290039],\n",
      "       [3285.060059, 1050.050049],\n",
      "       [3283.120117, 1057.810059],\n",
      "       [3281.659912, 1065.089966],\n",
      "       [3280.689941, 1072.359985],\n",
      "       [3280.209961, 1080.130005],\n",
      "       [3280.209961, 1087.890015],\n",
      "       [3276.330078, 1095.650024],\n",
      "       [3268.560059, 1100.97998 ],\n",
      "       [3261.77002 , 1108.75    ],\n",
      "       [3269.050049, 1115.050049],\n",
      "       [3276.810059, 1115.050049],\n",
      "       [3284.570068, 1115.050049],\n",
      "       [3292.820068, 1115.050049],\n",
      "       [3300.100098, 1114.569946],\n",
      "       [3307.370117, 1114.569946],\n",
      "       [3314.48999 , 1116.650024],\n",
      "       [3320.469971, 1122.329956],\n",
      "       [3326.77002 , 1130.089966],\n",
      "       [3327.73999 , 1137.849976],\n",
      "       [3327.73999 , 1145.609985],\n",
      "       [3327.73999 , 1152.890015],\n",
      "       [3327.73999 , 1160.650024],\n",
      "       [3327.73999 , 1169.869995],\n",
      "       [3327.73999 , 1178.599976],\n",
      "       [3326.610107, 1187.650024],\n",
      "       [3324.659912, 1194.150024],\n",
      "       [3321.409912, 1198.050049],\n",
      "       [3316.860107, 1200.650024],\n",
      "       [3309.429932, 1202.069946],\n",
      "       [3302.52002 , 1200.910034],\n",
      "       [3294.76001 , 1200.430054],\n",
      "       [3287.      , 1199.939941],\n",
      "       [3282.409912, 1200.      ],\n",
      "       [3272.050049, 1200.140015],\n",
      "       [3265.219971, 1198.959961],\n",
      "       [3255.719971, 1198.410034],\n",
      "       [3247.330078, 1198.959961],\n",
      "       [3239.949951, 1199.939941],\n",
      "       [3231.699951, 1199.939941],\n",
      "       [3223.290039, 1198.680054],\n",
      "       [3216.300049, 1198.959961],\n",
      "       [3207.73999 , 1197.859985],\n",
      "       [3198.679932, 1198.130005],\n",
      "       [3189.97998 , 1198.48999 ],\n",
      "       [3182.219971, 1197.030029],\n",
      "       [3175.320068, 1193.27002 ],\n",
      "       [3167.790039, 1188.359985],\n",
      "       [3158.949951, 1186.72998 ],\n",
      "       [3151.419922, 1185.420044],\n",
      "       [3144.540039, 1180.180054],\n",
      "       [3137.73999 , 1174.640015],\n",
      "       [3134.389893, 1170.02002 ],\n",
      "       [3131.110107, 1164.130005],\n",
      "       [3126.530029, 1158.890015],\n",
      "       [3119.649902, 1152.339966],\n",
      "       [3116.050049, 1145.790039],\n",
      "       [3114.090088, 1139.900024],\n",
      "       [3112.780029, 1131.060059],\n",
      "       [3110.47998 , 1124.180054],\n",
      "       [3112.850098, 1116.51001 ],\n",
      "       [3115.280029, 1108.75    ],\n",
      "       [3112.02002 , 1099.160034],\n",
      "       [3111.399902, 1093.219971],\n",
      "       [3118.679932, 1085.949951],\n",
      "       [3126.439941, 1083.040039],\n",
      "       [3135.169922, 1080.130005],\n",
      "       [3142.929932, 1075.76001 ],\n",
      "       [3150.879883, 1070.359985],\n",
      "       [3159.820068, 1066.72998 ],\n",
      "       [3166.620117, 1061.75    ],\n",
      "       [3173.969971, 1057.810059],\n",
      "       [3181.909912, 1053.869995],\n",
      "       [3189.5     , 1050.540039]])]], dtype=object), array([[array([[2392.179199, 2491.22998 ,  982.935974, 1097.145996]]),\n",
      "        array([[3110.47998 , 3327.73999 , 1007.849976, 1202.069946]])]],\n",
      "      dtype=object), array([[array([[11312.59187713]]), array([[42196.2326244]])]],\n",
      "      dtype=object), array([[array([[2392, 2492,  982, 1098]], dtype=uint16),\n",
      "        array([[3110, 3328, 1007, 1203]], dtype=uint16)]], dtype=object), array([[array([[11600]], dtype=uint16), array([[42728]], dtype=uint16)]],\n",
      "      dtype=object), array([[array([[4084, 3328]], dtype=uint16)]], dtype=object), array([[array([[2391,  981, 2491, 1097]], dtype=uint16),\n",
      "        array([[3109, 1006, 3327, 1202]], dtype=uint16)]], dtype=object))\n"
     ]
    }
   ],
   "source": [
    "import scipy.io\n",
    "\n",
    "file_path = r'D:\\Studying\\RetinaNet_Project\\INbreast_mammogram_statistic_struct.mat'\n",
    "file = scipy.io.loadmat(file_path)\n",
    "print(type(file))\n",
    "data = file['INbreasst_mammograms_statistic_struct']\n",
    "print(type(data))\n",
    "print(data.shape)\n",
    "print(data[0,0])\n",
    "# print(file['mass_bbox_for_PIL']"
   ]
  },
  {
   "cell_type": "code",
   "execution_count": 97,
   "metadata": {},
   "outputs": [
    {
     "data": {
      "text/plain": [
       "<matplotlib.image.AxesImage at 0x19c83d290f0>"
      ]
     },
     "execution_count": 97,
     "metadata": {},
     "output_type": "execute_result"
    },
    {
     "data": {
      "image/png": "[encoded data removed]",
      "text/plain": [
       "<Figure size 432x288 with 1 Axes>"
      ]
     },
     "metadata": {
      "needs_background": "light"
     },
     "output_type": "display_data"
    }
   ],
   "source": [
    "import numpy as np\n",
    "import cv2\n",
    "from matplotlib import pyplot as plt\n",
    "\n",
    "heir = np.zeros((100,200),np.uint8);\n",
    "x2=10\n",
    "y2=20\n",
    "w2=30\n",
    "h2=40\n",
    "cv2.rectangle(heir,(x2,y2),(x2+w2,y2+h2),(255,255,0),5)\n",
    "plt.imshow(heir)\n",
    "# cv2.imshow(\"img\",heir);"
   ]
  }
 ],
 "metadata": {
  "kernelspec": {
   "display_name": "Python 3",
   "language": "python",
   "name": "python3"
  },
  "language_info": {
   "codemirror_mode": {
    "name": "ipython",
    "version": 3
   },
   "file_extension": ".py",
   "mimetype": "text/x-python",
   "name": "python",
   "nbconvert_exporter": "python",
   "pygments_lexer": "ipython3",
   "version": "3.6.10"
  }
 },
 "nbformat": 4,
 "nbformat_minor": 4
}
