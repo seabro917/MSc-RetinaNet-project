{
 "cells": [
  {
   "cell_type": "code",
   "execution_count": 2,
   "metadata": {},
   "outputs": [],
   "source": [
    "# ******* True running program *******\n",
    "\n",
    "# Generate the augmentated images and its corresponding bbox coordinates, and write everything in an Excel file.\n",
    "# This is notebook is for validation set.\n",
    "# This notebook is for Hrizontal Flip"
   ]
  },
  {
   "cell_type": "markdown",
   "metadata": {},
   "source": [
    "### Import necessary packages"
   ]
  },
  {
   "cell_type": "code",
   "execution_count": 1,
   "metadata": {},
   "outputs": [],
   "source": [
    "from matplotlib import pyplot as plt\n",
    "import numpy as np\n",
    "import pydicom as dicom\n",
    "from PIL import Image, ImageMath\n",
    "import cv2 \n",
    "import skimage.color\n",
    "import os\n",
    "import random\n",
    "import pandas as pd\n",
    "from data_aug.data_aug import *\n",
    "from data_aug.bbox_util import *\n",
    "import pickle as pkl"
   ]
  },
  {
   "cell_type": "markdown",
   "metadata": {},
   "source": [
    "### Preprocessing"
   ]
  },
  {
   "cell_type": "code",
   "execution_count": 2,
   "metadata": {},
   "outputs": [
    {
     "name": "stdout",
     "output_type": "stream",
     "text": [
      "[[ 748.  917.  883. 1044.    0.]\n",
      " [ 860. 1605. 1283. 2060.    0.]\n",
      " [ 585.  933.  854. 1277.    0.]\n",
      " [   0. 2207.  308. 2457.    0.]\n",
      " [ 315. 1038.  455. 1142.    0.]\n",
      " [1864. 1375. 2178. 1696.    0.]\n",
      " [   0. 1033.  798. 1759.    0.]\n",
      " [  43. 2505.  561. 2902.    0.]\n",
      " [1363. 1498. 1513. 1724.    0.]]\n"
     ]
    }
   ],
   "source": [
    "# Input original dicom image file path and its corresponding bbox coordinates\n",
    "\n",
    "file_path_1 = r'D:\\Studying\\RetinaNet_Project\\all_DICOM_files\\AllDICOMs\\20587810_81cd83d2f4d78528_MG_L_ML_ANON.dcm'\n",
    "bbox_coordinate_1 = [748., 917., 883., 1044., 0.]\n",
    "file_path_2 = r'D:\\Studying\\RetinaNet_Project\\all_DICOM_files\\AllDICOMs\\50999459_f62fbf38fb208316_MG_L_CC_ANON.dcm'\n",
    "bbox_coordinate_2 = [860., 1605., 1283., 2060., 0.]\n",
    "file_path_3 = r'D:\\Studying\\RetinaNet_Project\\all_DICOM_files\\AllDICOMs\\30011674_6968748e66837bc7_MG_L_CC_ANON.dcm'\n",
    "bbox_coordinate_3 = [585., 933., 854., 1277., 0.]\n",
    "file_path_4 = r'D:\\Studying\\RetinaNet_Project\\all_DICOM_files\\AllDICOMs\\22678694_61b13c59bcba149e_MG_L_ML_ANON.dcm'\n",
    "bbox_coordinate_4 = [0., 2207., 308., 2457., 0.]\n",
    "file_path_5 = r'D:\\Studying\\RetinaNet_Project\\all_DICOM_files\\AllDICOMs\\22580680_fe7d005dcbbfb46d_MG_L_CC_ANON.dcm'\n",
    "bbox_coordinate_5 = [315., 1038., 455., 1142., 0.]\n",
    "file_path_6 = r'D:\\Studying\\RetinaNet_Project\\all_DICOM_files\\AllDICOMs\\50996352_6aba0b402889a16f_MG_R_ML_ANON.dcm'\n",
    "bbox_coordinate_6 = [1864., 1375., 2178., 1696., 0.]\n",
    "file_path_7 = r'D:\\Studying\\RetinaNet_Project\\all_DICOM_files\\AllDICOMs\\20588680_036aff49b8ac84f0_MG_L_ML_ANON.dcm'\n",
    "bbox_coordinate_7 = [0., 1033., 798., 1759., 0.]\n",
    "file_path_8 = r'D:\\Studying\\RetinaNet_Project\\all_DICOM_files\\AllDICOMs\\22614379_d065adcb9905b973_MG_L_CC_ANON.dcm'\n",
    "bbox_coordinate_8 = [43., 2505., 561., 2902., 0.]\n",
    "file_path_9 = r'D:\\Studying\\RetinaNet_Project\\all_DICOM_files\\AllDICOMs\\22580244_5530d5782fc89dd7_MG_R_ML_ANON.dcm'\n",
    "bbox_coordinate_9 = [1363., 1498., 1513., 1724., 0.]\n",
    "\n",
    "file_path_array = []\n",
    "bbox_coordinates_array = np.zeros([9, 5])\n",
    "\n",
    "# Use eval to put the file path and its corresponding bbox coordinates into array\n",
    "for x in range(9):\n",
    "    file_path_temp = 'file_path_{}'.format(x+1)\n",
    "    bbox_coordinate_temp = 'bbox_coordinate_{}'.format(x+1)\n",
    "    \n",
    "    file_path_array.append(eval(file_path_temp))\n",
    "    bbox_coordinates_array[x, :] = eval(bbox_coordinate_temp)\n",
    "\n",
    "print(bbox_coordinates_array)"
   ]
  },
  {
   "cell_type": "markdown",
   "metadata": {},
   "source": [
    "### Horizontal Flip"
   ]
  },
  {
   "cell_type": "code",
   "execution_count": 3,
   "metadata": {},
   "outputs": [
    {
     "name": "stdout",
     "output_type": "stream",
     "text": [
      "Processing number  0  images...\n",
      "(3328, 2560)\n",
      "3328\n",
      "<class 'int'>\n",
      "Processing number  1  images...\n",
      "(4084, 3328)\n",
      "4084\n",
      "<class 'int'>\n",
      "Processing number  2  images...\n",
      "(3328, 2560)\n",
      "3328\n",
      "<class 'int'>\n",
      "Processing number  3  images...\n",
      "(3328, 2560)\n",
      "3328\n",
      "<class 'int'>\n",
      "Processing number  4  images...\n",
      "(4084, 3328)\n",
      "4084\n",
      "<class 'int'>\n",
      "Processing number  5  images...\n",
      "(3328, 2560)\n",
      "3328\n",
      "<class 'int'>\n",
      "Processing number  6  images...\n",
      "(4084, 3328)\n",
      "4084\n",
      "<class 'int'>\n",
      "Processing number  7  images...\n",
      "(3328, 2560)\n",
      "3328\n",
      "<class 'int'>\n",
      "Processing number  8  images...\n",
      "(3328, 2560)\n",
      "3328\n",
      "<class 'int'>\n",
      "[[1677.  917. 1812. 1044.]\n",
      " [2045. 1605. 2468. 2060.]\n",
      " [1706.  933. 1975. 1277.]\n",
      " [2252. 2207. 2560. 2457.]\n",
      " [2873. 1038. 3013. 1142.]\n",
      " [ 382. 1375.  696. 1696.]\n",
      " [2530. 1033. 3328. 1759.]\n",
      " [1999. 2505. 2517. 2902.]\n",
      " [1047. 1498. 1197. 1724.]]\n",
      "<class 'numpy.float64'>\n",
      "        0       1       2       3  \\\n",
      "0  1677.0   917.0  1812.0  1044.0   \n",
      "1  2045.0  1605.0  2468.0  2060.0   \n",
      "2  1706.0   933.0  1975.0  1277.0   \n",
      "3  2252.0  2207.0  2560.0  2457.0   \n",
      "4  2873.0  1038.0  3013.0  1142.0   \n",
      "5   382.0  1375.0   696.0  1696.0   \n",
      "6  2530.0  1033.0  3328.0  1759.0   \n",
      "7  1999.0  2505.0  2517.0  2902.0   \n",
      "8  1047.0  1498.0  1197.0  1724.0   \n",
      "\n",
      "                                           file path  \n",
      "0  D:\\Studying\\RetinaNet_Project_test_agumentatio...  \n",
      "1  D:\\Studying\\RetinaNet_Project_test_agumentatio...  \n",
      "2  D:\\Studying\\RetinaNet_Project_test_agumentatio...  \n",
      "3  D:\\Studying\\RetinaNet_Project_test_agumentatio...  \n",
      "4  D:\\Studying\\RetinaNet_Project_test_agumentatio...  \n",
      "5  D:\\Studying\\RetinaNet_Project_test_agumentatio...  \n",
      "6  D:\\Studying\\RetinaNet_Project_test_agumentatio...  \n",
      "7  D:\\Studying\\RetinaNet_Project_test_agumentatio...  \n",
      "8  D:\\Studying\\RetinaNet_Project_test_agumentatio...  \n"
     ]
    }
   ],
   "source": [
    "# Start flipping\n",
    "\n",
    "# Empty dataframe\n",
    "df = pd.DataFrame() \n",
    "\n",
    "# Do random rotation three times for each image\n",
    "number_of_rotation_for_each_image = 3\n",
    "# Final array for storing all bbox coordinates.\n",
    "bbox_coordinates_array_random_rotation_final = np.zeros([9*number_of_rotation_for_each_image, 4])\n",
    "file_path_array_pd = []\n",
    "\n",
    "# Outter loop for number of transforms done for each image.\n",
    "for i in range(number_of_rotation_for_each_image):\n",
    "    bbox_coordinates_random_rotation_temp = np.zeros([9, 4])\n",
    "    for j in range(9):\n",
    "\n",
    "        file_path_temp = file_path_array[j]\n",
    "        bbox_coordinate_temp = np.array([bbox_coordinates_array[j]])\n",
    "\n",
    "        # Read the dicom image\n",
    "        original_dicom = dicom.dcmread(file_path_temp)\n",
    "        original_data = original_dicom.pixel_array\n",
    "        dicom_image_size = original_data.shape\n",
    "        print(\"Processing number \", j, \" images...\", i, \" iteration...\")\n",
    "        print(dicom_image_size)\n",
    "        print(dicom_image_size[0])\n",
    "\n",
    "        # Path of the saved augmentated images.\n",
    "        saving_path = r'D:\\Studying\\RetinaNet_Project_test_agumentations\\validation_augmentations\\Random_rotate' \n",
    "        # This is the sequence number of the dicom image\n",
    "        saving_folder = '\\\\'+ file_path_temp.split('\\\\')[-1][0:-34]\n",
    "        # If this directory does not exist, create it at first time.\n",
    "        if not (os.path.exists(saving_path + saving_folder)):\n",
    "            os.mkdir(saving_path + saving_folder)\n",
    "\n",
    "        # Use scikit to duplicate the image channel\n",
    "        three_channel_image = skimage.color.gray2rgb(original_data)\n",
    "        img_, bboxes_ = RandomHorizontalFlip(1)(three_channel_image.copy(), bbox_coordinate_temp.copy())\n",
    "\n",
    "        img_horizontal_flip_temp = img_[:,:,0].copy()\n",
    "        image_name = r'\\temp_dicom_{}_random_rotation_{}.tif'.format(saving_folder[1:], i)\n",
    "        Image.fromarray(img_horizontal_flip_temp).save(saving_path + saving_folder + image_name)\n",
    "        # Save current temp file path to the data frame array\n",
    "        file_path_array_pd.append(saving_path + saving_folder + image_name)\n",
    "        bbox_coordinates_horizontal_flip[j, :] = [np.int(bboxes_[0,0]), np.int(bboxes_[0,1]), np.int(bboxes_[0,2]), np.int(bboxes_[0,3])]\n",
    "        print(type(int(bboxes_[0,0])))\n",
    "    print(bbox_coordinates_horizontal_flip)\n",
    "    print(type(bbox_coordinates_horizontal_flip[6,1]))\n",
    "    df = pd.DataFrame(bbox_coordinates_horizontal_flip)\n",
    "    df['file path'] = file_path_array_pd\n",
    "    print(df)\n",
    "    writer = pd.ExcelWriter('horizontal_flip.xlsx')\n",
    "    df.to_excel(writer)\n",
    "    writer.save()"
   ]
  },
  {
   "cell_type": "markdown",
   "metadata": {},
   "source": [
    "### Test for the correctness of horizental flip here"
   ]
  },
  {
   "cell_type": "code",
   "execution_count": 5,
   "metadata": {},
   "outputs": [
    {
     "name": "stdout",
     "output_type": "stream",
     "text": [
      "[[ True  True  True ...  True  True  True]\n",
      " [ True  True  True ...  True  True  True]\n",
      " [ True  True  True ...  True  True  True]\n",
      " ...\n",
      " [ True  True  True ...  True  True  True]\n",
      " [ True  True  True ...  True  True  True]\n",
      " [ True  True  True ...  True  True  True]]\n",
      "True\n",
      "[2530. 1033. 3328. 1759.]\n",
      "<class 'numpy.float64'>\n"
     ]
    },
    {
     "data": {
      "text/plain": [
       "<matplotlib.image.AxesImage at 0x17c03f2e320>"
      ]
     },
     "execution_count": 5,
     "metadata": {},
     "output_type": "execute_result"
    },
    {
     "data": {
      "image/png": "[encoded data removed]",
      "text/plain": [
       "<Figure size 432x288 with 4 Axes>"
      ]
     },
     "metadata": {
      "needs_background": "light"
     },
     "output_type": "display_data"
    }
   ],
   "source": [
    "# Choose one to see whether it is correct.\n",
    "# Status: Pass\n",
    "# Possible problem: Integer or Float?\n",
    "\n",
    "flip_image = Image.open(r'D:\\Studying\\RetinaNet_Project_test_agumentations\\validation_augmentations\\Horizontal_flip\\20588680\\temp_dicom_20588680_horizontal_flip.tif')\n",
    "flip_image = np.array(flip_image)\n",
    "original_dicom = dicom.dcmread(file_path_array[6])\n",
    "original_data = original_dicom.pixel_array\n",
    "\n",
    "flip_from_original = original_data[:,::-1]\n",
    "print(flip_image == flip_from_original)\n",
    "print(flip_image[2500, 1700] == flip_from_original[2500, 1700])\n",
    "\n",
    "plt.figure(1)\n",
    "\n",
    "# Plot flipped image\n",
    "plt.subplot2grid((2,2), (0,0))\n",
    "plt.imshow(flip_image, cmap='gray')\n",
    "plt.subplot2grid((2,2), (0,1))\n",
    "plt.imshow(flip_from_original, cmap='gray')\n",
    "\n",
    "# Plot its corresponding bbox\n",
    "plt.subplot2grid((2,2),(1,0))\n",
    "# cv2.rectangle(flip_image,(int(bbox_coordinates_horizontal_flip[6,0]),int(bbox_coordinates_horizontal_flip[6,1])),(int(bbox_coordinates_horizontal_flip[6,2]), int(bbox_coordinates_horizontal_flip[6,3])) , (255,0,0), -1)\n",
    "cv2.rectangle(flip_image,(2530, 1033),(3328, 1759) , (255,0,0), -1)\n",
    "plt.imshow(flip_image, cmap='gray')\n",
    "\n",
    "print(bbox_coordinates_horizontal_flip[6])\n",
    "print(type(bbox_coordinates_horizontal_flip[6, 1]))\n",
    "\n",
    "plt.subplot2grid((2,2), (1,1))\n",
    "cv2.rectangle(original_data, (int(bbox_coordinates_array[6,0]),int(bbox_coordinates_array[6,1])),(int(bbox_coordinates_array[6,2]), int(bbox_coordinates_array[6,3])), (255,0,0), -1)\n",
    "plt.imshow(original_data, cmap='gray')"
   ]
  }
 ],
 "metadata": {
  "kernelspec": {
   "display_name": "Python 3",
   "language": "python",
   "name": "python3"
  },
  "language_info": {
   "codemirror_mode": {
    "name": "ipython",
    "version": 3
   },
   "file_extension": ".py",
   "mimetype": "text/x-python",
   "name": "python",
   "nbconvert_exporter": "python",
   "pygments_lexer": "ipython3",
   "version": "3.6.10"
  }
 },
 "nbformat": 4,
 "nbformat_minor": 4
}
