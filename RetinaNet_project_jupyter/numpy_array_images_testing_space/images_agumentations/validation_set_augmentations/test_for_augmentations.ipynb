{
 "cells": [
  {
   "cell_type": "code",
   "execution_count": 1,
   "metadata": {},
   "outputs": [],
   "source": [
    "from data_aug.data_aug import *\n",
    "from data_aug.bbox_util import *\n",
    "import numpy as np \n",
    "import cv2 \n",
    "import matplotlib.pyplot as plt \n",
    "import pickle as pkl\n",
    "\n",
    "\n",
    "import pydicom as dicom\n",
    "from PIL import Image, ImageMath\n",
    "import skimage.color\n",
    "%matplotlib inline"
   ]
  },
  {
   "cell_type": "code",
   "execution_count": 2,
   "metadata": {},
   "outputs": [
    {
     "name": "stdout",
     "output_type": "stream",
     "text": [
      "(3328, 2560)\n",
      "3328\n",
      "<class 'PIL.TiffImagePlugin.TiffImageFile'>\n",
      "1410\n"
     ]
    },
    {
     "data": {
      "text/plain": [
       "<matplotlib.image.AxesImage at 0x22ce661add8>"
      ]
     },
     "execution_count": 2,
     "metadata": {},
     "output_type": "execute_result"
    },
    {
     "data": {
      "image/png": "[encoded data removed]",
      "text/plain": [
       "<Figure size 432x288 with 2 Axes>"
      ]
     },
     "metadata": {
      "needs_background": "light"
     },
     "output_type": "display_data"
    }
   ],
   "source": [
    "# Input original dicom image file path and its corresponding bbox coordinates\n",
    "file_path = r'D:\\Studying\\RetinaNet_Project\\all_DICOM_files\\AllDICOMs\\30011674_6968748e66837bc7_MG_L_CC_ANON.dcm'\n",
    "bbox_coordinate = [585, 933, 854, 1277]\n",
    "# Read the dicom image\n",
    "original_dicom = dicom.dcmread(file_path)\n",
    "original_data = original_dicom.pixel_array\n",
    "print(original_data.shape)\n",
    "print(original_data.shape[0])\n",
    "\n",
    "# Save the dicom image in .tif format to make sure lossless.\n",
    "Image.fromarray(original_data).save('dicom_tiff_test.tif')\n",
    "dicom_tiff = Image.open('dicom_tiff_test.tif')  \n",
    "print(type(dicom_tiff))\n",
    "dicom_tiff_image = np.array(dicom_tiff)\n",
    "print(dicom_tiff_image[600, 500])\n",
    "dicom_tiff.close()\n",
    "\n",
    "plt.figure(1)\n",
    "# Plot the dicom image\n",
    "plt.subplot2grid((1,2), (0,0))\n",
    "plt.imshow(dicom_tiff_image, cmap = 'gray')\n",
    "\n",
    "# Plot the bbox in colored filled rectangle.(By setting the end of the command to -1)\n",
    "plt.subplot2grid((1,2), (0,1))\n",
    "# cv2.rectangle(dicom_tiff_image, (bbox_coordinate[0], bbox_coordinate[1]), (bbox_coordinate[2], bbox_coordinate[3]), (255, 0, 0), -1)\n",
    "cv2.rectangle(dicom_tiff_image,(585, 933), (854, 1277), (255, 0, 0), -1)\n",
    "plt.imshow(dicom_tiff_image, cmap = 'gray')\n"
   ]
  },
  {
   "cell_type": "code",
   "execution_count": null,
   "metadata": {},
   "outputs": [],
   "source": [
    "bboxes =  np.array([[585., 933., 854., 1277., 0.]])\n",
    "\n",
    "# plotted_img = draw_rect(original_data, bboxes)\n",
    "# plt.imshow(plotted_img)\n",
    "# plt.show()"
   ]
  },
  {
   "cell_type": "code",
   "execution_count": null,
   "metadata": {},
   "outputs": [],
   "source": [
    "# Three dimensions\n",
    "\n",
    "three_channel_image =` skimage.color.gray2rgb(original_data)\n",
    "img_, bboxes_ = RandomHorizontalFlip(1)(three_channel_image.copy(), bboxes.copy())\n",
    "img_flip = img_[:,:,0].copy()\n",
    "print(bboxes_)\n",
    "plt.subplot2grid((1,2), (0,0))\n",
    "plt.imshow(img_flip, cmap='gray')\n",
    "plt.subplot2grid((1,2), (0,1))\n",
    "cv2.rectangle(img_flip, (int(bboxes_[0,0]), int(bboxes_[0,1])), (int(bboxes_[0,2]), int(bboxes_[0,3])), (255, 0, 0), -1)\n",
    "plt.imshow(img_back, cmap='gray')\n",
    "plt.show()"
   ]
  },
  {
   "cell_type": "code",
   "execution_count": 3,
   "metadata": {},
   "outputs": [],
   "source": [
    "from data_aug.data_aug import *\n",
    "from data_aug.bbox_util import *\n",
    "import numpy as np \n",
    "import cv2 \n",
    "import matplotlib.pyplot as plt \n",
    "import pickle as pkl\n",
    "\n",
    "\n",
    "import pydicom as dicom\n",
    "from PIL import Image, ImageMath\n",
    "import skimage.color\n",
    "%matplotlib inline\n",
    "\n",
    "# Input original dicom image file path and its corresponding bbox coordinates\n",
    "file_path = r'D:\\Studying\\RetinaNet_Project\\all_DICOM_files\\AllDICOMs\\30011674_6968748e66837bc7_MG_L_CC_ANON.dcm'\n",
    "bbox_coordinate = [585, 933, 854, 1277]\n",
    "# Read the dicom image\n",
    "original_dicom = dicom.dcmread(file_path)\n",
    "original_data = original_dicom.pixel_array\n",
    "print(original_data.shape)\n",
    "print(original_data.shape[0])\n",
    "\n",
    "# Save the dicom image in .tif format to make sure lossless.\n",
    "Image.fromarray(original_data).save('dicom_tiff_test.tif')\n",
    "dicom_tiff = Image.open('dicom_tiff_test.tif')  \n",
    "print(type(dicom_tiff))\n",
    "dicom_tiff_image = np.array(dicom_tiff)\n",
    "print(dicom_tiff_image[600, 500])\n",
    "dicom_tiff.close()\n",
    "\n",
    "plt.figure(1)\n",
    "# Plot the dicom image\n",
    "plt.subplot2grid((2,2), (0,0))\n",
    "plt.imshow(dicom_tiff_image, cmap = 'gray')\n",
    "\n",
    "img_flip = dicom_tiff_image[:,::-1].copy()\n",
    "plt.subplot2grid((2,2), (0,1))\n",
    "plt.imshow(img_flip, cmap = 'gray')\n",
    "\n",
    "plt.subplot2grid((2,2), (1,0))\n",
    "cv2.rectangle(dicom_tiff_image,(585, 933), (854, 1277), (255, 0, 0), -1)\n",
    "plt.imshow(dicom_tiff_image, cmap = 'gray')\n",
    "\n",
    "plt.subplot2grid((2,2), (1,1))\n",
    "cv2.rectangle(img_flip,(1706, 933), (1975, 1277), (0, 0, 255), -1)\n",
    "plt.imshow(img_flip, cmap = 'gray')"
   ]
  },
  {
   "cell_type": "code",
   "execution_count": 4,
   "metadata": {},
   "outputs": [
    {
     "name": "stdout",
     "output_type": "stream",
     "text": [
      "(4084, 3328, 3)\n"
     ]
    }
   ],
   "source": [
    "from keras_retinanet.utils.image import read_image_bgr\n",
    "\n",
    "file_path = r'D:\\Studying\\RetinaNet_Project_test_agumentations\\validation_augmentations\\Random_rotate\\20588680\\temp_dicom_20588680_random_rotation_0.tif'\n",
    "image = read_image_bgr(file_path)"
   ]
  }
 ],
 "metadata": {
  "kernelspec": {
   "display_name": "Python 3",
   "language": "python",
   "name": "python3"
  },
  "language_info": {
   "codemirror_mode": {
    "name": "ipython",
    "version": 3
   },
   "file_extension": ".py",
   "mimetype": "text/x-python",
   "name": "python",
   "nbconvert_exporter": "python",
   "pygments_lexer": "ipython3",
   "version": "3.6.10"
  }
 },
 "nbformat": 4,
 "nbformat_minor": 4
}
