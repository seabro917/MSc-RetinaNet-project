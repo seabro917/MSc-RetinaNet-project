{
 "cells": [
  {
   "cell_type": "code",
   "execution_count": 3,
   "metadata": {},
   "outputs": [
    {
     "name": "stdout",
     "output_type": "stream",
     "text": [
      "   col1  col2\n",
      "a     1     2\n",
      "b     3     4\n"
     ]
    }
   ],
   "source": [
    "import pandas as pd\n",
    "import numpy as np\n",
    "import xlwt\n",
    "\n",
    "def set_style(name, height, bold = False):\n",
    "    style = xlwt.XFStyle()\n",
    "    font = xlwt.Font()\n",
    "    font.name = name\n",
    "    font.bold = bold\n",
    "    font.color_index = 4\n",
    "    font.height = height\n",
    "    style.font = font\n",
    "    return style\n",
    "\n",
    "f = xlwt.Workbook()\n",
    "sheet1 = f.add_sheet('学生', cell_overwrite_ok = True)\n",
    "row0 = [\"name\", \"age\", \"birth\", \"hobby\"]\n",
    "colum0 = [\"A\", \"B\", \"C\", \"D\"]\n",
    "\n",
    "# Set the font of first row and column\n",
    "#第一行\n",
    "for i in range(0, len(row0)):\n",
    "    sheet1.write(0, i, row0[i], set_style('Times New Roman', 220, True))\n",
    "\n",
    "#第一列\n",
    "for i in range(0, len(colum0)):\n",
    "    sheet1.write(i+1, 0, colum0[i], set_style('Times New Roman', 220, True))\n",
    "\n",
    "sheet1.write(1, 3, '2019/12/25')\n",
    "sheet1.write_merge(6, 6, 1, 3, 'Unknown')#合并单元格\n",
    "sheet1.write_merge(1, 2, 3, 3, 'Play')#合并列\n",
    "sheet1.write_merge(4, 5, 3, 3,'Basketball')\n",
    "\n",
    "f.save('test.csv')\n",
    "\n"
   ]
  },
  {
   "cell_type": "code",
   "execution_count": 25,
   "metadata": {},
   "outputs": [
    {
     "name": "stdout",
     "output_type": "stream",
     "text": [
      "   col1  col2  col3\n",
      "a     1     2     3\n",
      "b     4     5     6\n",
      "Index(['a', 'b'], dtype='object')\n",
      "Index(['col1', 'col2', 'col3'], dtype='object')\n",
      "*************************************\n",
      "col1    1\n",
      "col2    2\n",
      "col3    3\n",
      "Name: a, dtype: int64\n",
      "   col1  col2  col3\n",
      "a     1     2     3\n",
      "   col1  col2  col3 col4\n",
      "a     1     2     3  cnn\n",
      "b     4     5     6  rnn\n",
      "*************************************\n",
      "   col1  col2  col3 col4             col5\n",
      "a     1     2     3  cnn  MachineLearning\n",
      "b     4     5     6  rnn     DeepLearning\n",
      "   col1  col2  col3 col4             col5\n",
      "a     1     2     3  cnn  MachineLearning\n",
      "b     4     5     6  rnn     DeepLearning\n"
     ]
    }
   ],
   "source": [
    "# Data frame testing space\n",
    "import numpy as np\n",
    "import pandas as pd\n",
    "\n",
    "df = pd.DataFrame([[1, 2, 3],[4, 5, 6]], columns=['col1','col2','col3'], index=['a','b'])\n",
    "print(df)\n",
    "\n",
    "print(df.index)\n",
    "print(df.columns)\n",
    "print(\"*************************************\")\n",
    "print(df.loc['a'])\n",
    "print(df.loc[df.index[0:1]])\n",
    "\n",
    "# Add dataframe in the column\n",
    "df['col4'] = ['cnn','rnn']\n",
    "print(df)\n",
    "print(\"*************************************\")\n",
    "df['col5'] = pd.DataFrame(['MachineLearning','DeepLearning'],index=['a','b'])\n",
    "print(df)\n",
    "# Add dataframe in the row\n",
    "df.append(pd.DataFrame({'col1':7,'col2':8,'col3':9,'col4':'rcnn','col5':'ReinforcementLearning'},index=['c']))\n",
    "print(df)"
   ]
  },
  {
   "cell_type": "code",
   "execution_count": 33,
   "metadata": {},
   "outputs": [],
   "source": [
    "import numpy as np  \n",
    "d = np.zeros([2000, 255])  \n",
    "d += 65536  \n",
    "df = pd.DataFrame(d)  \n",
    "writer = pd.ExcelWriter('write_xlsx.xlsx')  \n",
    "def test_pandas_write():  \n",
    "    df.to_excel(writer, 'Sheet1')  \n",
    "    df.to_excel(writer, 'Sheet2')  \n",
    "    df.to_excel(writer, 'Sheet3')  \n",
    "    df.to_excel(writer, 'Sheet4')  \n",
    "    df.to_excel(writer, 'Sheet5')  \n",
    "    writer.save()\n",
    "test_pandas_write()"
   ]
  }
 ],
 "metadata": {
  "kernelspec": {
   "display_name": "Python 3",
   "language": "python",
   "name": "python3"
  },
  "language_info": {
   "codemirror_mode": {
    "name": "ipython",
    "version": 3
   },
   "file_extension": ".py",
   "mimetype": "text/x-python",
   "name": "python",
   "nbconvert_exporter": "python",
   "pygments_lexer": "ipython3",
   "version": "3.6.10"
  }
 },
 "nbformat": 4,
 "nbformat_minor": 4
}
