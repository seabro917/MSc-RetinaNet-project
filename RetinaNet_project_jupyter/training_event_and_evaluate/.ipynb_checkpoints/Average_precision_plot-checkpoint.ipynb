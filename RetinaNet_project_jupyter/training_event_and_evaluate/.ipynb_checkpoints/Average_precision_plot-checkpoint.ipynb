{
 "cells": [
  {
   "cell_type": "code",
   "execution_count": 38,
   "metadata": {},
   "outputs": [
    {
     "data": {
      "text/plain": [
       "Text(0, 0.5, 'precision')"
      ]
     },
     "execution_count": 38,
     "metadata": {},
     "output_type": "execute_result"
    },
    {
     "data": {
      "image/png": "[encoded data removed]",
      "text/plain": [
       "<Figure size 432x288 with 1 Axes>"
      ]
     },
     "metadata": {
      "needs_background": "light"
     },
     "output_type": "display_data"
    }
   ],
   "source": [
    "from matplotlib import pyplot as plt\n",
    "\n",
    "# 40th model of no anchor optimization (alpha = 0.95, gamma = 5)\n",
    "recall_array = [0.0625, 0.125,  0.1875, 0.25,   0.3125, 0.375,  0.4375, 0.5, 0.5625, 0.625, \\\n",
    "                0.625,  0.6875, 0.75,   0.75,   0.75,   0.75,   0.75,   0.75,   0.75, 0.75, \\\n",
    "                0.75,  0.75,   0.75,   0.75,   0.75,   0.75,   0.75,   0.75,   0.75,   0.75, \\\n",
    "                0.75,  0.75,   0.75,   0.75,   0.75,   0.75,   0.75,   0.75,   0.75,   0.75, \\\n",
    "                0.75,  0.75,   0.75,   0.75,   0.75,   0.75,   0.75,   0.75,   0.75,   0.75, \\\n",
    "                0.75,  0.75,   0.75,   0.75,   0.75,   0.75,   0.75,   0.75,   0.75,   0.75, \\\n",
    "                0.75,  0.75,   0.75,   0.75,   0.75,   0.75  ]\n",
    "precision_array = [1. ,       1.,         1.,         1.,         1.,         1., \\\n",
    "                   1. ,       1. ,        1. ,        1. ,        0.90909091, 0.91666667, \\\n",
    "                   0.92307692, 0.85714286, 0.8,        0.75,       0.70588235, 0.66666667, \\\n",
    "                   0.63157895, 0.6,        0.57142857, 0.54545455, 0.52173913, 0.5, \\\n",
    "                   0.48,       0.46153846, 0.44444444, 0.42857143, 0.4137931 , 0.4, \\\n",
    "                   0.38709677, 0.375,      0.36363636, 0.35294118, 0.34285714, 0.33333333, \\\n",
    "                   0.32432432, 0.31578947, 0.30769231, 0.3,        0.29268293, 0.28571429, \\\n",
    "                   0.27906977, 0.27272727, 0.26666667, 0.26086957, 0.25531915, 0.25, \\\n",
    "                   0.24489796, 0.24,       0.23529412, 0.23076923, 0.22641509, 0.22222222,\\\n",
    "                   0.21818182, 0.21428571, 0.21052632, 0.20689655, 0.20338983, 0.2,\\\n",
    "                   0.19672131, 0.19354839, 0.19047619, 0.1875,    0.18461538, 0.18181818]\n",
    "plt.figure(1)\n",
    "plt.plot(recall_array, precision_array)\n",
    "\n",
    "# 40th model with 15 anchors given by anchor_optimization\n",
    "recall_array_2 = [0.0625, 0.125,  0.1875, 0.1875, 0.25,   0.3125, 0.375  ,0.4375, 0.4375, 0.4375,\\\n",
    "                  0.5   , 0.5  ,  0.5   , 0.5   , 0.5 ,   0.5   , 0.5    ,0.5625, 0.5625, 0.5625,\\\n",
    "                  0.5625, 0.5625, 0.5625, 0.5625, 0.5625, 0.5625, 0.5625 ,0.5625, 0.5625, 0.5625,\\\n",
    "                  0.5625, 0.5625, 0.5625, 0.5625, 0.5625, 0.5625, 0.5625, 0.5625, 0.5625, 0.5625,\\\n",
    "                  0.625 , 0.625 , 0.625 , 0.625,  0.625 , 0.625 , 0.625,  0.625 , 0.625 , 0.625,\\\n",
    "                  0.625 , 0.625 , 0.625 , 0.625,  0.625 ]\n",
    "\n",
    "precision_array_2 = [1.,         1.,          1. ,        0.75      , 0.8       , 0.83333333,\\\n",
    "                     0.85714286, 0.875     , 0.77777778, 0.7       , 0.72727273, 0.66666667,\\\n",
    "                     0.61538462, 0.57142857, 0.53333333, 0.5       , 0.47058824, 0.5,\\\n",
    "                     0.47368421, 0.45      , 0.42857143, 0.40909091, 0.39130435, 0.375,\\\n",
    "                     0.36      , 0.34615385, 0.33333333, 0.32142857, 0.31034483, 0.3,\\\n",
    "                     0.29032258, 0.28125   , 0.27272727, 0.26470588, 0.25714286, 0.25,\\\n",
    "                     0.24324324, 0.23684211, 0.23076923, 0.225     , 0.24390244, 0.23809524,\\\n",
    "                     0.23255814, 0.22727273, 0.22222222, 0.2173913 , 0.21276596, 0.20833333,\\\n",
    "                     0.20408163, 0.2 ,       0.19607843, 0.19230769, 0.18867925, 0.18518519,\\\n",
    "                     0.18181818]\n",
    "plt.plot(recall_array_2, precision_array_2)\n",
    "plt.xlabel('recall')\n",
    "plt.ylabel('precision')"
   ]
  },
  {
   "cell_type": "code",
   "execution_count": 2,
   "metadata": {},
   "outputs": [
    {
     "ename": "SyntaxError",
     "evalue": "invalid syntax (<ipython-input-2-ab0e6810e4f7>, line 28)",
     "output_type": "error",
     "traceback": [
      "\u001b[1;36m  File \u001b[1;32m\"<ipython-input-2-ab0e6810e4f7>\"\u001b[1;36m, line \u001b[1;32m28\u001b[0m\n\u001b[1;33m    0.6875, 0.6875, 0.75  , 0.75 ,  0.75,   0.75 ,  0.75 ,  0.75 ,  0.75 ,  0.75\\\u001b[0m\n\u001b[1;37m         ^\u001b[0m\n\u001b[1;31mSyntaxError\u001b[0m\u001b[1;31m:\u001b[0m invalid syntax\n"
     ]
    }
   ],
   "source": [
    "from matplotlib import pyplot as plt\n",
    "\n",
    "# 40th model of no anchor optimization (alpha = 0.95, gamma = 5)\n",
    "recall_array = [0.0625, 0.125,  0.1875, 0.25,   0.3125, 0.375,  0.4375, 0.5, 0.5625, 0.625, \\\n",
    "                0.625,  0.6875, 0.75,   0.75,   0.75,   0.75,   0.75,   0.75,   0.75, 0.75, \\\n",
    "                0.75,  0.75,   0.75,   0.75,   0.75,   0.75,   0.75,   0.75,   0.75,   0.75, \\\n",
    "                0.75,  0.75,   0.75,   0.75,   0.75,   0.75,   0.75,   0.75,   0.75,   0.75, \\\n",
    "                0.75,  0.75,   0.75,   0.75,   0.75,   0.75,   0.75,   0.75,   0.75,   0.75, \\\n",
    "                0.75,  0.75,   0.75,   0.75,   0.75,   0.75,   0.75,   0.75,   0.75,   0.75, \\\n",
    "                0.75,  0.75,   0.75,   0.75,   0.75,   0.75  ]\n",
    "precision_array = [1. ,       1.,         1.,         1.,         1.,         1., \\\n",
    "                   1. ,       1. ,        1. ,        1. ,        0.90909091, 0.91666667, \\\n",
    "                   0.92307692, 0.85714286, 0.8,        0.75,       0.70588235, 0.66666667, \\\n",
    "                   0.63157895, 0.6,        0.57142857, 0.54545455, 0.52173913, 0.5, \\\n",
    "                   0.48,       0.46153846, 0.44444444, 0.42857143, 0.4137931 , 0.4, \\\n",
    "                   0.38709677, 0.375,      0.36363636, 0.35294118, 0.34285714, 0.33333333, \\\n",
    "                   0.32432432, 0.31578947, 0.30769231, 0.3,        0.29268293, 0.28571429, \\\n",
    "                   0.27906977, 0.27272727, 0.26666667, 0.26086957, 0.25531915, 0.25, \\\n",
    "                   0.24489796, 0.24,       0.23529412, 0.23076923, 0.22641509, 0.22222222,\\\n",
    "                   0.21818182, 0.21428571, 0.21052632, 0.20689655, 0.20338983, 0.2,\\\n",
    "                   0.19672131, 0.19354839, 0.19047619, 0.1875,    0.18461538, 0.18181818]\n",
    "plt.figure(1)\n",
    "plt.plot(recall_array, precision_array)\n",
    "\n",
    "\n",
    "# 39th model of no anchor optimization (alpha = 0.95, gamma = 5)\n",
    "recall_array_2 = [0.0625, 0.125 , 0.1875, 0.25,   0.3125 ,0.375,  0.4375, 0.5  ,  0.5625, 0.625,\\\n",
    "                 0.6875, 0.6875, 0.75  , 0.75 ,  0.75,   0.75 ,  0.75 ,  0.75 ,  0.75 ,  0.75,\\\n",
    "                 0.75  , 0.75  , 0.75 ,  0.75  , 0.75 ,  0.75 ,  0.75 ,  0.75 ,  0.75 ,  0.75,\\\n",
    "                 0.75 ,  0.75 ,  0.75 ,  0.75  , 0.75  , 0.75 ,  0.75  , 0.75 ,  0.75 ,  0.75,\\\n",
    "                 0.75 ,  0.75 ,  0.75 ,  0.75  , 0.75  , 0.75 ,  0.75 ,  0.75  , 0.75 ,  0.75,\\\n",
    "                 0.75 ,  0.75 ,  0.75 ,  0.75  ,, 0.75 ,  0.75  , 0.75 ,  0.75  ]\n",
    "precision_array_2 = [1.         1.         1.         1.         1.         1.\\\n",
    "                     1.         1.         1.         1.         1.         0.91666667\\\n",
    "                     0.92307692 0.85714286 0.8        0.75       0.70588235 0.66666667\\\n",
    "                     0.63157895 0.6        0.57142857 0.54545455 0.52173913 0.5\\\n",
    "                     0.48       0.46153846 0.44444444 0.42857143 0.4137931  0.4\\\n",
    "                     0.38709677 0.375      0.36363636 0.35294118 0.34285714 0.33333333\\\n",
    "                     0.32432432 0.31578947 0.30769231 0.3        0.29268293 0.28571429\\\n",
    "                     0.27906977 0.27272727 0.26666667 0.26086957 0.25531915 0.25\\\n",
    "                     0.24489796 0.24       0.23529412 0.23076923 0.22641509 0.22222222 \\\n",
    "                     0.21818182 0.21428571 0.21052632 0.20689655]\n",
    "plt.plot(recall_array_2, precision_array_2)\n",
    "\n"
   ]
  }
 ],
 "metadata": {
  "kernelspec": {
   "display_name": "Python 3",
   "language": "python",
   "name": "python3"
  },
  "language_info": {
   "codemirror_mode": {
    "name": "ipython",
    "version": 3
   },
   "file_extension": ".py",
   "mimetype": "text/x-python",
   "name": "python",
   "nbconvert_exporter": "python",
   "pygments_lexer": "ipython3",
   "version": "3.6.10"
  }
 },
 "nbformat": 4,
 "nbformat_minor": 4
}
