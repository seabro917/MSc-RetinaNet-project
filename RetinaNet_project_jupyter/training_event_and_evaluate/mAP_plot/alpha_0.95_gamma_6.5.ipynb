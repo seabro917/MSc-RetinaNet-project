{
 "cells": [
  {
   "cell_type": "code",
   "execution_count": 1,
   "metadata": {},
   "outputs": [
    {
     "data": {
      "text/plain": [
       "[<matplotlib.lines.Line2D at 0x1b337347ef0>]"
      ]
     },
     "execution_count": 1,
     "metadata": {},
     "output_type": "execute_result"
    },
    {
     "data": {
      "image/png": "[encoded data removed]",
      "text/plain": [
       "<Figure size 432x288 with 1 Axes>"
      ]
     },
     "metadata": {
      "needs_background": "light"
     },
     "output_type": "display_data"
    }
   ],
   "source": [
    "from matplotlib import pyplot as plt\n",
    "\n",
    "# 40th model\n",
    "recall_array = [0.0625, 0.125 , 0.1875, 0.25  , 0.3125, 0.3125, 0.375 , 0.4375, 0.5 ,   0.5625,\\\n",
    "                0.625  ,0.6875, 0.6875, 0.6875, 0.6875, 0.6875, 0.6875, 0.6875, 0.6875, 0.6875,\\\n",
    "                0.6875 ,0.6875, 0.6875, 0.6875, 0.6875, 0.6875, 0.6875, 0.6875, 0.6875, 0.6875,\\\n",
    "                0.6875 ,0.6875, 0.6875, 0.6875, 0.6875, 0.6875, 0.6875, 0.6875, 0.6875, 0.6875,\\\n",
    "                0.6875 ,0.6875, 0.6875, 0.6875, 0.6875, 0.6875, 0.6875, 0.6875, 0.6875, 0.6875,\\\n",
    "                0.6875 ,0.6875, 0.6875, 0.6875, 0.6875, 0.6875, 0.6875, 0.6875, 0.6875, 0.6875,\\\n",
    "                0.6875 ,0.6875, 0.6875, 0.6875, 0.6875, 0.6875, 0.6875, 0.6875, 0.6875, 0.6875,\\\n",
    "                0.6875 ,0.6875, 0.6875, 0.6875, 0.6875, 0.6875, 0.6875, 0.6875 ,0.6875, 0.6875,\\\n",
    "                0.6875 ,0.6875, 0.6875, 0.6875, 0.6875, 0.6875, 0.6875, 0.6875, 0.6875, 0.6875,\\\n",
    "                0.6875 ,0.6875, 0.6875, 0.6875, 0.6875, 0.75,   0.75  , 0.75 ,  0.75 ,  0.75,\\\n",
    "                0.75   ,0.75,   0.75  , 0.75  , 0.75  , 0.75,   0.75  , 0.75 ,  0.75 ,  0.75,\\\n",
    "                0.75   ,0.75,   0.75  , 0.75  , 0.75  , 0.75,   0.75  , 0.75 ,  0.75 ,  0.75,\\\n",
    "                0.75   ,0.75,   0.75  , 0.75  , 0.75  , 0.75,   0.75  , 0.75 ,  0.75 ,  0.75,\\\n",
    "                0.75   ,0.75,   0.75  , 0.75  , 0.75  , 0.75,   0.75  , 0.75,   0.75 ,  0.75,\\\n",
    "                0.75   ,0.75,   0.75  , 0.75  , 0.75  , 0.75,   0.75  , 0.75,   0.75 ,  0.75,\\\n",
    "                0.75   ,0.75,   0.75  , 0.75 ,  0.75  , 0.75,   0.75  , 0.75,   0.75 ,  0.75,\\\n",
    "                0.75   ,0.75,   0.75  , 0.75 ,0.75  , 0.75 ,  0.75  , 0.75  , 0.75 ,  0.75,\\\n",
    "                0.75   ,0.75,   0.75  , 0.75  , 0.75 ,  0.75,   0.75 ,  0.75,   0.75,   0.75,\\\n",
    "                0.75   ,0.75,   0.75  , 0.75  , 0.75  , 0.75 ,  0.75 ,  0.75,   0.75,   0.75,\\\n",
    "                0.75   ,0.75,   0.75  , 0.75 ,  0.75  , 0.75,   0.75 ,  0.75,   0.75,   0.75,\\\n",
    "                0.75  ]\n",
    "precision_array = [1.,         1.   ,      1. ,        1.   ,      1.  ,       0.83333333,\\\n",
    " 0.85714286, 0.875     , 0.88888889, 0.9        ,0.90909091, 0.91666667,\\\n",
    " 0.84615385, 0.78571429, 0.73333333, 0.6875     ,0.64705882, 0.61111111,\\\n",
    " 0.57894737, 0.55      , 0.52380952, 0.5        ,0.47826087, 0.45833333,\\\n",
    " 0.44      , 0.42307692, 0.40740741, 0.39285714 ,0.37931034, 0.36666667,\\\n",
    " 0.35483871, 0.34375   , 0.33333333, 0.32352941 ,0.31428571, 0.30555556,\\\n",
    " 0.2972973 , 0.28947368, 0.28205128, 0.275      ,0.26829268, 0.26190476,\\\n",
    " 0.25581395, 0.25      , 0.24444444, 0.23913043 ,0.23404255, 0.22916667,\\\n",
    " 0.2244898 , 0.22      , 0.21568627, 0.21153846 ,0.20754717, 0.2037037,\\\n",
    " 0.2       , 0.19642857, 0.19298246, 0.18965517, 0.18644068, 0.18333333,\\\n",
    " 0.18032787, 0.17741935, 0.17460317, 0.171875  , 0.16923077, 0.16666667,\\\n",
    " 0.1641791 , 0.16176471, 0.15942029, 0.15714286, 0.15492958, 0.15277778,\\\n",
    " 0.15068493, 0.14864865, 0.14666667, 0.14473684, 0.14285714, 0.14102564,\\\n",
    " 0.13924051, 0.1375    , 0.13580247, 0.13414634, 0.13253012, 0.13095238,\\\n",
    " 0.12941176, 0.12790698, 0.12643678, 0.125     , 0.12359551, 0.12222222,\\\n",
    " 0.12087912, 0.11956522, 0.11827957, 0.11702128, 0.11578947, 0.125,\\\n",
    " 0.12371134, 0.12244898, 0.12121212, 0.12      , 0.11881188, 0.11764706,\\\n",
    " 0.11650485, 0.11538462, 0.11428571, 0.11320755, 0.11214953, 0.11111111,\\\n",
    " 0.11009174, 0.10909091, 0.10810811, 0.10714286, 0.10619469, 0.10526316,\\\n",
    " 0.10434783, 0.10344828, 0.1025641 , 0.10169492, 0.10084034, 0.1,\\\n",
    " 0.09917355, 0.09836066, 0.09756098, 0.09677419, 0.096     , 0.0952381,\\\n",
    " 0.09448819, 0.09375   , 0.09302326, 0.09230769, 0.09160305, 0.09090909,\\\n",
    " 0.09022556, 0.08955224, 0.08888889, 0.08823529, 0.08759124, 0.08695652,\\\n",
    " 0.08633094, 0.08571429, 0.08510638, 0.08450704, 0.08391608, 0.08333333,\\\n",
    " 0.08275862, 0.08219178, 0.08163265, 0.08108108, 0.08053691, 0.08,\\\n",
    " 0.0794702 , 0.07894737, 0.07843137, 0.07792208, 0.07741935, 0.07692308,\\\n",
    " 0.07643312, 0.07594937, 0.0754717 , 0.075     , 0.07453416, 0.07407407,\\\n",
    " 0.07361963, 0.07317073, 0.07272727, 0.07228916, 0.07185629, 0.07142857,\\\n",
    " 0.07100592, 0.07058824, 0.07017544, 0.06976744 ,0.06936416, 0.06896552,\\\n",
    " 0.06857143, 0.06818182, 0.06779661, 0.06741573, 0.06703911, 0.06666667,\\\n",
    " 0.06629834, 0.06593407, 0.06557377, 0.06521739, 0.06486486, 0.06451613,\\\n",
    " 0.06417112, 0.06382979, 0.06349206, 0.06315789, 0.06282723, 0.0625,\\\n",
    " 0.06217617, 0.06185567, 0.06153846, 0.06122449, 0.06091371, 0.06060606,\\\n",
    " 0.06030151, 0.06,       0.05970149]\n",
    "plt.figure(1)\n",
    "plt.plot(recall_array, precision_array)\n",
    "\n"
   ]
  }
 ],
 "metadata": {
  "kernelspec": {
   "display_name": "Python 3",
   "language": "python",
   "name": "python3"
  },
  "language_info": {
   "codemirror_mode": {
    "name": "ipython",
    "version": 3
   },
   "file_extension": ".py",
   "mimetype": "text/x-python",
   "name": "python",
   "nbconvert_exporter": "python",
   "pygments_lexer": "ipython3",
   "version": "3.6.10"
  }
 },
 "nbformat": 4,
 "nbformat_minor": 4
}
