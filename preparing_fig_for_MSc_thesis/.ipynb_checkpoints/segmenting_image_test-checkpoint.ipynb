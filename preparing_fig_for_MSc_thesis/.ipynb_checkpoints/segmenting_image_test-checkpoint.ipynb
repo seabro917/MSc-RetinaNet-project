{
 "cells": [
  {
   "cell_type": "code",
   "execution_count": null,
   "metadata": {},
   "outputs": [],
   "source": [
    "from PIL import Image\n",
    "import os\n",
    "import cv2\n",
    "import time\n",
    "import numpy as np\n",
    "import matplotlib.pyplot as plt\n",
    "\n",
    "img_1 = cv2.imread('fpn_whole.jpg')\n",
    "img_1 = cv2.cvtColor(img_1, cv2.COLOR_BGR2RGB)\n",
    "plt.imshow(img_1)\n",
    "print(type(img_1))\n",
    "print(img_1.shape)\n",
    "\n",
    "img_first = img_1[0:229, 0:550, :]\n",
    "img_second = img_1[0:229, 551:880, :]\n",
    "img_third = img_1[276:505, 0:390, :]\n",
    "img_fourth = img_1[276:505, 390:940, :]\n",
    "\n",
    "cv2.imwrite(\"img_first.png\", img_first[:,:,::-1])\n",
    "cv2.imwrite(\"img_second.png\", img_second[:,:,::-1])\n",
    "cv2.imwrite(\"img_third.png\", img_third[:,:,::-1])\n",
    "cv2.imwrite(\"img_fourth.png\", img_fourth[:,:,::-1])"
   ]
  },
  {
   "cell_type": "code",
   "execution_count": 3,
   "metadata": {},
   "outputs": [
    {
     "data": {
      "text/plain": [
       "True"
      ]
     },
     "execution_count": 3,
     "metadata": {},
     "output_type": "execute_result"
    }
   ],
   "source": [
    "from PIL import Image\n",
    "import os\n",
    "import cv2\n",
    "import time\n",
    "import numpy as np\n",
    "import matplotlib.pyplot as plt\n",
    "\n",
    "img_1 = cv2.imread('fpn_second_1.jpg')\n",
    "output = cv2.resize(img_1, (258, 158))\n",
    "cv2.imwrite(\"fpn_second_2.png\", output[:,:,:])"
   ]
  }
 ],
 "metadata": {
  "kernelspec": {
   "display_name": "Python 3",
   "language": "python",
   "name": "python3"
  },
  "language_info": {
   "codemirror_mode": {
    "name": "ipython",
    "version": 3
   },
   "file_extension": ".py",
   "mimetype": "text/x-python",
   "name": "python",
   "nbconvert_exporter": "python",
   "pygments_lexer": "ipython3",
   "version": "3.6.10"
  }
 },
 "nbformat": 4,
 "nbformat_minor": 4
}
